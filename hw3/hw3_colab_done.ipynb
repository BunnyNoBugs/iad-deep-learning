{
  "nbformat": 4,
  "nbformat_minor": 0,
  "metadata": {
    "kernelspec": {
      "display_name": "Python 3",
      "language": "python",
      "name": "python3"
    },
    "language_info": {
      "codemirror_mode": {
        "name": "ipython",
        "version": 3
      },
      "file_extension": ".py",
      "mimetype": "text/x-python",
      "name": "python",
      "nbconvert_exporter": "python",
      "pygments_lexer": "ipython3",
      "version": "3.8.6"
    },
    "colab": {
      "name": "hw3 colab done.ipynb",
      "provenance": [],
      "collapsed_sections": [
        "OqGwIIzcYucO",
        "hqXvzjPJYucR",
        "3fMwiuh-YucT",
        "fws0XNU6YucX",
        "3fsNfqNGYucX",
        "qQMPZPQPYucb"
      ]
    },
    "accelerator": "GPU"
  },
  "cells": [
    {
      "cell_type": "markdown",
      "metadata": {
        "id": "-FXXL5ajYucI"
      },
      "source": [
        "# Домашнее задание 3. \n",
        "\n",
        "## Предсказание пользовательской оценки отеля по тексту отзыва."
      ]
    },
    {
      "cell_type": "markdown",
      "metadata": {
        "id": "SHeOl3x3YucM"
      },
      "source": [
        "Мы собрали для вас отзывы по 1500 отелям из совершенно разных уголков мира. Что это за отели - секрет. Вам дан текст отзыва и пользовательская оценка отеля. Ваша задача - научиться предсказывать оценку отеля по отзыву. Данные можно скачать [тут](https://www.kaggle.com/c/hseds-texts-2020/data?select=train.csv)."
      ]
    },
    {
      "cell_type": "markdown",
      "metadata": {
        "id": "ZGw7iWK0YucN"
      },
      "source": [
        "Главная метрика - Mean Absolute Error (MAE). Во всех частях домашней работы вам нужно получить значение MAE не превышающее 1. В противном случае мы будем вынуждены не засчитать задание :( "
      ]
    },
    {
      "cell_type": "markdown",
      "metadata": {
        "id": "HV3oLmS8YucN"
      },
      "source": [
        "Для измерения качества вашей модели используйте разбиение данных на train и test и замеряйте качество на тестовой части."
      ]
    },
    {
      "cell_type": "markdown",
      "metadata": {
        "id": "d0bnjG7TYucN"
      },
      "source": [
        "#### Про данные:\n",
        "Каждое ревью состоит из двух текстов: positive и negative - плюсы и минусы отеля. В столбце score находится оценка пользователя - вещественное число 0 до 10. Вам нужно извлечь признаки из этих текстов и предсказать по ним оценку."
      ]
    },
    {
      "cell_type": "markdown",
      "metadata": {
        "id": "vA-R5QnUYucN"
      },
      "source": [
        "Удачи! 💪"
      ]
    },
    {
      "cell_type": "markdown",
      "metadata": {
        "id": "OqGwIIzcYucO"
      },
      "source": [
        "#### Использовать внешние данные для обучения строго запрещено. Можно использовать предобученные модели из torchvision."
      ]
    },
    {
      "cell_type": "code",
      "metadata": {
        "id": "LuDH5M2CYucO"
      },
      "source": [
        "import pandas as pd\n",
        "import numpy as np\n",
        "import scipy\n",
        "\n",
        "import string\n",
        "\n",
        "import nltk\n",
        "from nltk.tokenize import word_tokenize\n",
        "# from nltk.corpus import stopwords\n",
        "# stopwords_eng = list(stopwords.words('english'))\n",
        "# stopwords_eng.append('-PRON-')\n",
        "import spacy\n",
        "nlp = spacy.load('en', disable=['parser', 'ner'])\n",
        "\n",
        "from sklearn.model_selection import train_test_split\n",
        "from sklearn.metrics import mean_absolute_error\n",
        "\n",
        "from sklearn.feature_extraction.text import TfidfVectorizer\n",
        "from sklearn.linear_model import LinearRegression, Lasso, Ridge, ElasticNet\n",
        "\n",
        "import matplotlib.pyplot as plt\n",
        "\n",
        "from gensim.models import Word2Vec, FastText\n",
        "\n",
        "from math import log"
      ],
      "execution_count": 81,
      "outputs": []
    },
    {
      "cell_type": "code",
      "metadata": {
        "id": "mGyc4yWVYucO"
      },
      "source": [
        "PATH_TO_TRAIN_DATA = 'hseds-texts-2020/train.csv'"
      ],
      "execution_count": null,
      "outputs": []
    },
    {
      "cell_type": "code",
      "metadata": {
        "id": "RzeKdrFBYucO",
        "outputId": "2bcb3082-c43b-4e75-8c69-9a505471208d"
      },
      "source": [
        "df = pd.read_csv(PATH_TO_TRAIN_DATA)\n",
        "df.drop('review_id', axis=1, inplace=True)\n",
        "df"
      ],
      "execution_count": null,
      "outputs": [
        {
          "output_type": "execute_result",
          "data": {
            "text/html": [
              "<div>\n",
              "<style scoped>\n",
              "    .dataframe tbody tr th:only-of-type {\n",
              "        vertical-align: middle;\n",
              "    }\n",
              "\n",
              "    .dataframe tbody tr th {\n",
              "        vertical-align: top;\n",
              "    }\n",
              "\n",
              "    .dataframe thead th {\n",
              "        text-align: right;\n",
              "    }\n",
              "</style>\n",
              "<table border=\"1\" class=\"dataframe\">\n",
              "  <thead>\n",
              "    <tr style=\"text-align: right;\">\n",
              "      <th></th>\n",
              "      <th>negative</th>\n",
              "      <th>positive</th>\n",
              "      <th>score</th>\n",
              "    </tr>\n",
              "  </thead>\n",
              "  <tbody>\n",
              "    <tr>\n",
              "      <th>0</th>\n",
              "      <td>There were issues with the wifi connection</td>\n",
              "      <td>No Positive</td>\n",
              "      <td>7.1</td>\n",
              "    </tr>\n",
              "    <tr>\n",
              "      <th>1</th>\n",
              "      <td>TV not working</td>\n",
              "      <td>No Positive</td>\n",
              "      <td>7.5</td>\n",
              "    </tr>\n",
              "    <tr>\n",
              "      <th>2</th>\n",
              "      <td>More pillows</td>\n",
              "      <td>Beautiful room Great location Lovely staff</td>\n",
              "      <td>10.0</td>\n",
              "    </tr>\n",
              "    <tr>\n",
              "      <th>3</th>\n",
              "      <td>Very business</td>\n",
              "      <td>Location</td>\n",
              "      <td>5.4</td>\n",
              "    </tr>\n",
              "    <tr>\n",
              "      <th>4</th>\n",
              "      <td>Rooms could do with a bit of a refurbishment ...</td>\n",
              "      <td>Nice breakfast handy for Victoria train stati...</td>\n",
              "      <td>6.7</td>\n",
              "    </tr>\n",
              "    <tr>\n",
              "      <th>...</th>\n",
              "      <td>...</td>\n",
              "      <td>...</td>\n",
              "      <td>...</td>\n",
              "    </tr>\n",
              "    <tr>\n",
              "      <th>99995</th>\n",
              "      <td>No coffee facilities in room Air Con didn t s...</td>\n",
              "      <td>Very quiet for a central London Hotel Comfy b...</td>\n",
              "      <td>7.9</td>\n",
              "    </tr>\n",
              "    <tr>\n",
              "      <th>99996</th>\n",
              "      <td>The room was far too hot on the first night 2...</td>\n",
              "      <td>breakfast was fine welcome with cava was good</td>\n",
              "      <td>4.2</td>\n",
              "    </tr>\n",
              "    <tr>\n",
              "      <th>99997</th>\n",
              "      <td>Terrible worn out Mattress dust behind the he...</td>\n",
              "      <td>The well meaning staff</td>\n",
              "      <td>5.0</td>\n",
              "    </tr>\n",
              "    <tr>\n",
              "      <th>99998</th>\n",
              "      <td>No Negative</td>\n",
              "      <td>Very profissional and nice staff Very well de...</td>\n",
              "      <td>9.6</td>\n",
              "    </tr>\n",
              "    <tr>\n",
              "      <th>99999</th>\n",
              "      <td>No Negative</td>\n",
              "      <td>Great breakfast and the rooms are clean Locat...</td>\n",
              "      <td>10.0</td>\n",
              "    </tr>\n",
              "  </tbody>\n",
              "</table>\n",
              "<p>100000 rows × 3 columns</p>\n",
              "</div>"
            ],
            "text/plain": [
              "                                                negative  \\\n",
              "0             There were issues with the wifi connection   \n",
              "1                                         TV not working   \n",
              "2                                           More pillows   \n",
              "3                                          Very business   \n",
              "4       Rooms could do with a bit of a refurbishment ...   \n",
              "...                                                  ...   \n",
              "99995   No coffee facilities in room Air Con didn t s...   \n",
              "99996   The room was far too hot on the first night 2...   \n",
              "99997   Terrible worn out Mattress dust behind the he...   \n",
              "99998                                        No Negative   \n",
              "99999                                        No Negative   \n",
              "\n",
              "                                                positive  score  \n",
              "0                                            No Positive    7.1  \n",
              "1                                            No Positive    7.5  \n",
              "2            Beautiful room Great location Lovely staff    10.0  \n",
              "3                                               Location    5.4  \n",
              "4       Nice breakfast handy for Victoria train stati...    6.7  \n",
              "...                                                  ...    ...  \n",
              "99995   Very quiet for a central London Hotel Comfy b...    7.9  \n",
              "99996      breakfast was fine welcome with cava was good    4.2  \n",
              "99997                             The well meaning staff    5.0  \n",
              "99998   Very profissional and nice staff Very well de...    9.6  \n",
              "99999   Great breakfast and the rooms are clean Locat...   10.0  \n",
              "\n",
              "[100000 rows x 3 columns]"
            ]
          },
          "metadata": {
            "tags": []
          },
          "execution_count": 16
        }
      ]
    },
    {
      "cell_type": "markdown",
      "metadata": {
        "id": "B2FNr3rGYucP"
      },
      "source": [
        "Предобработка текста может сказываться на качестве вашей модели.\n",
        "Сделаем небольшой препроцессинг текстов: удалим знаки препинания, приведем все слова к нижнему регистру. \n",
        "Однако можно не ограничиваться этим набором преобразований. Подумайте, что еще можно сделать с текстами, чтобы помочь будущим моделям? Добавьте преобразования, которые могли бы помочь по вашему мнению."
      ]
    },
    {
      "cell_type": "markdown",
      "metadata": {
        "id": "N_dsKuA2YucP"
      },
      "source": [
        "Также мы добавили разбиение текстов на токены. Теперь каждая строка-ревью стала массивом токенов."
      ]
    },
    {
      "cell_type": "code",
      "metadata": {
        "id": "Rkd3Jw-hYucQ"
      },
      "source": [
        "def process_text(text):\n",
        "    text = ' '.join([word for word in word_tokenize(text.lower()) if word not in string.punctuation])\n",
        "    text = ' '.join([token.lemma_ for token in nlp(text)])\n",
        "    \n",
        "    return text"
      ],
      "execution_count": null,
      "outputs": []
    },
    {
      "cell_type": "code",
      "metadata": {
        "id": "IRA4yfpaYucQ",
        "outputId": "3b3c1315-8e0a-4777-f11e-82bacb8d0524"
      },
      "source": [
        "%%time\n",
        "\n",
        "df['negative'] = df['negative'].apply(process_text)\n",
        "df['positive'] = df['positive'].apply(process_text)\n",
        "df"
      ],
      "execution_count": null,
      "outputs": [
        {
          "output_type": "stream",
          "text": [
            "Wall time: 5min 39s\n"
          ],
          "name": "stdout"
        },
        {
          "output_type": "execute_result",
          "data": {
            "text/html": [
              "<div>\n",
              "<style scoped>\n",
              "    .dataframe tbody tr th:only-of-type {\n",
              "        vertical-align: middle;\n",
              "    }\n",
              "\n",
              "    .dataframe tbody tr th {\n",
              "        vertical-align: top;\n",
              "    }\n",
              "\n",
              "    .dataframe thead th {\n",
              "        text-align: right;\n",
              "    }\n",
              "</style>\n",
              "<table border=\"1\" class=\"dataframe\">\n",
              "  <thead>\n",
              "    <tr style=\"text-align: right;\">\n",
              "      <th></th>\n",
              "      <th>negative</th>\n",
              "      <th>positive</th>\n",
              "      <th>score</th>\n",
              "    </tr>\n",
              "  </thead>\n",
              "  <tbody>\n",
              "    <tr>\n",
              "      <th>0</th>\n",
              "      <td>there be issue with the wifi connection</td>\n",
              "      <td>no positive</td>\n",
              "      <td>7.1</td>\n",
              "    </tr>\n",
              "    <tr>\n",
              "      <th>1</th>\n",
              "      <td>tv not work</td>\n",
              "      <td>no positive</td>\n",
              "      <td>7.5</td>\n",
              "    </tr>\n",
              "    <tr>\n",
              "      <th>2</th>\n",
              "      <td>more pillow</td>\n",
              "      <td>beautiful room great location lovely staff</td>\n",
              "      <td>10.0</td>\n",
              "    </tr>\n",
              "    <tr>\n",
              "      <th>3</th>\n",
              "      <td>very business</td>\n",
              "      <td>location</td>\n",
              "      <td>5.4</td>\n",
              "    </tr>\n",
              "    <tr>\n",
              "      <th>4</th>\n",
              "      <td>room could do with a bit of a refurbishment as...</td>\n",
              "      <td>nice breakfast handy for victoria train statio...</td>\n",
              "      <td>6.7</td>\n",
              "    </tr>\n",
              "    <tr>\n",
              "      <th>...</th>\n",
              "      <td>...</td>\n",
              "      <td>...</td>\n",
              "      <td>...</td>\n",
              "    </tr>\n",
              "    <tr>\n",
              "      <th>99995</th>\n",
              "      <td>no coffee facility in room air con didn t seem...</td>\n",
              "      <td>very quiet for a central london hotel comfy be...</td>\n",
              "      <td>7.9</td>\n",
              "    </tr>\n",
              "    <tr>\n",
              "      <th>99996</th>\n",
              "      <td>the room be far too hot on the first night 28 ...</td>\n",
              "      <td>breakfast be fine welcome with cava be good</td>\n",
              "      <td>4.2</td>\n",
              "    </tr>\n",
              "    <tr>\n",
              "      <th>99997</th>\n",
              "      <td>terrible wear out mattress dust behind the hea...</td>\n",
              "      <td>the well meaning staff</td>\n",
              "      <td>5.0</td>\n",
              "    </tr>\n",
              "    <tr>\n",
              "      <th>99998</th>\n",
              "      <td>no negative</td>\n",
              "      <td>very profissional and nice staff very well dec...</td>\n",
              "      <td>9.6</td>\n",
              "    </tr>\n",
              "    <tr>\n",
              "      <th>99999</th>\n",
              "      <td>no negative</td>\n",
              "      <td>great breakfast and the room be clean location...</td>\n",
              "      <td>10.0</td>\n",
              "    </tr>\n",
              "  </tbody>\n",
              "</table>\n",
              "<p>100000 rows × 3 columns</p>\n",
              "</div>"
            ],
            "text/plain": [
              "                                                negative  \\\n",
              "0                there be issue with the wifi connection   \n",
              "1                                            tv not work   \n",
              "2                                            more pillow   \n",
              "3                                          very business   \n",
              "4      room could do with a bit of a refurbishment as...   \n",
              "...                                                  ...   \n",
              "99995  no coffee facility in room air con didn t seem...   \n",
              "99996  the room be far too hot on the first night 28 ...   \n",
              "99997  terrible wear out mattress dust behind the hea...   \n",
              "99998                                        no negative   \n",
              "99999                                        no negative   \n",
              "\n",
              "                                                positive  score  \n",
              "0                                            no positive    7.1  \n",
              "1                                            no positive    7.5  \n",
              "2             beautiful room great location lovely staff   10.0  \n",
              "3                                               location    5.4  \n",
              "4      nice breakfast handy for victoria train statio...    6.7  \n",
              "...                                                  ...    ...  \n",
              "99995  very quiet for a central london hotel comfy be...    7.9  \n",
              "99996        breakfast be fine welcome with cava be good    4.2  \n",
              "99997                             the well meaning staff    5.0  \n",
              "99998  very profissional and nice staff very well dec...    9.6  \n",
              "99999  great breakfast and the room be clean location...   10.0  \n",
              "\n",
              "[100000 rows x 3 columns]"
            ]
          },
          "metadata": {
            "tags": []
          },
          "execution_count": 18
        }
      ]
    },
    {
      "cell_type": "code",
      "metadata": {
        "id": "ogSX-PqnYucQ",
        "outputId": "d42a9572-c8eb-43ef-c229-bb3f2844e521"
      },
      "source": [
        "df['negative'] = df['negative'].apply(lambda x: '' if x == 'no negative' else x)\n",
        "df['positive'] = df['positive'].apply(lambda x: '' if x == 'no positive' else x)\n",
        "df"
      ],
      "execution_count": null,
      "outputs": [
        {
          "output_type": "execute_result",
          "data": {
            "text/html": [
              "<div>\n",
              "<style scoped>\n",
              "    .dataframe tbody tr th:only-of-type {\n",
              "        vertical-align: middle;\n",
              "    }\n",
              "\n",
              "    .dataframe tbody tr th {\n",
              "        vertical-align: top;\n",
              "    }\n",
              "\n",
              "    .dataframe thead th {\n",
              "        text-align: right;\n",
              "    }\n",
              "</style>\n",
              "<table border=\"1\" class=\"dataframe\">\n",
              "  <thead>\n",
              "    <tr style=\"text-align: right;\">\n",
              "      <th></th>\n",
              "      <th>negative</th>\n",
              "      <th>positive</th>\n",
              "      <th>score</th>\n",
              "    </tr>\n",
              "  </thead>\n",
              "  <tbody>\n",
              "    <tr>\n",
              "      <th>0</th>\n",
              "      <td>there be issue with the wifi connection</td>\n",
              "      <td></td>\n",
              "      <td>7.1</td>\n",
              "    </tr>\n",
              "    <tr>\n",
              "      <th>1</th>\n",
              "      <td>tv not work</td>\n",
              "      <td></td>\n",
              "      <td>7.5</td>\n",
              "    </tr>\n",
              "    <tr>\n",
              "      <th>2</th>\n",
              "      <td>more pillow</td>\n",
              "      <td>beautiful room great location lovely staff</td>\n",
              "      <td>10.0</td>\n",
              "    </tr>\n",
              "    <tr>\n",
              "      <th>3</th>\n",
              "      <td>very business</td>\n",
              "      <td>location</td>\n",
              "      <td>5.4</td>\n",
              "    </tr>\n",
              "    <tr>\n",
              "      <th>4</th>\n",
              "      <td>room could do with a bit of a refurbishment as...</td>\n",
              "      <td>nice breakfast handy for victoria train statio...</td>\n",
              "      <td>6.7</td>\n",
              "    </tr>\n",
              "    <tr>\n",
              "      <th>...</th>\n",
              "      <td>...</td>\n",
              "      <td>...</td>\n",
              "      <td>...</td>\n",
              "    </tr>\n",
              "    <tr>\n",
              "      <th>99995</th>\n",
              "      <td>no coffee facility in room air con didn t seem...</td>\n",
              "      <td>very quiet for a central london hotel comfy be...</td>\n",
              "      <td>7.9</td>\n",
              "    </tr>\n",
              "    <tr>\n",
              "      <th>99996</th>\n",
              "      <td>the room be far too hot on the first night 28 ...</td>\n",
              "      <td>breakfast be fine welcome with cava be good</td>\n",
              "      <td>4.2</td>\n",
              "    </tr>\n",
              "    <tr>\n",
              "      <th>99997</th>\n",
              "      <td>terrible wear out mattress dust behind the hea...</td>\n",
              "      <td>the well meaning staff</td>\n",
              "      <td>5.0</td>\n",
              "    </tr>\n",
              "    <tr>\n",
              "      <th>99998</th>\n",
              "      <td></td>\n",
              "      <td>very profissional and nice staff very well dec...</td>\n",
              "      <td>9.6</td>\n",
              "    </tr>\n",
              "    <tr>\n",
              "      <th>99999</th>\n",
              "      <td></td>\n",
              "      <td>great breakfast and the room be clean location...</td>\n",
              "      <td>10.0</td>\n",
              "    </tr>\n",
              "  </tbody>\n",
              "</table>\n",
              "<p>100000 rows × 3 columns</p>\n",
              "</div>"
            ],
            "text/plain": [
              "                                                negative  \\\n",
              "0                there be issue with the wifi connection   \n",
              "1                                            tv not work   \n",
              "2                                            more pillow   \n",
              "3                                          very business   \n",
              "4      room could do with a bit of a refurbishment as...   \n",
              "...                                                  ...   \n",
              "99995  no coffee facility in room air con didn t seem...   \n",
              "99996  the room be far too hot on the first night 28 ...   \n",
              "99997  terrible wear out mattress dust behind the hea...   \n",
              "99998                                                      \n",
              "99999                                                      \n",
              "\n",
              "                                                positive  score  \n",
              "0                                                           7.1  \n",
              "1                                                           7.5  \n",
              "2             beautiful room great location lovely staff   10.0  \n",
              "3                                               location    5.4  \n",
              "4      nice breakfast handy for victoria train statio...    6.7  \n",
              "...                                                  ...    ...  \n",
              "99995  very quiet for a central london hotel comfy be...    7.9  \n",
              "99996        breakfast be fine welcome with cava be good    4.2  \n",
              "99997                             the well meaning staff    5.0  \n",
              "99998  very profissional and nice staff very well dec...    9.6  \n",
              "99999  great breakfast and the room be clean location...   10.0  \n",
              "\n",
              "[100000 rows x 3 columns]"
            ]
          },
          "metadata": {
            "tags": []
          },
          "execution_count": 19
        }
      ]
    },
    {
      "cell_type": "code",
      "metadata": {
        "id": "OhS1BPJYYucQ"
      },
      "source": [
        "df['united'] = df['negative'] + ' ' + df['positive']"
      ],
      "execution_count": null,
      "outputs": []
    },
    {
      "cell_type": "code",
      "metadata": {
        "id": "bitwEfg7YucR"
      },
      "source": [
        "df.to_csv('train_reviews.csv')"
      ],
      "execution_count": null,
      "outputs": []
    },
    {
      "cell_type": "code",
      "metadata": {
        "id": "ffDFj_aCYucR"
      },
      "source": [
        "df = pd.read_csv('train_reviews.csv', index_col=[0]).fillna('')"
      ],
      "execution_count": null,
      "outputs": []
    },
    {
      "cell_type": "code",
      "metadata": {
        "id": "cMP7KV71YucR",
        "outputId": "6e05e697-5ef2-4cb9-d9ee-93a45d2cb06c"
      },
      "source": [
        "df"
      ],
      "execution_count": null,
      "outputs": [
        {
          "output_type": "execute_result",
          "data": {
            "text/html": [
              "<div>\n",
              "<style scoped>\n",
              "    .dataframe tbody tr th:only-of-type {\n",
              "        vertical-align: middle;\n",
              "    }\n",
              "\n",
              "    .dataframe tbody tr th {\n",
              "        vertical-align: top;\n",
              "    }\n",
              "\n",
              "    .dataframe thead th {\n",
              "        text-align: right;\n",
              "    }\n",
              "</style>\n",
              "<table border=\"1\" class=\"dataframe\">\n",
              "  <thead>\n",
              "    <tr style=\"text-align: right;\">\n",
              "      <th></th>\n",
              "      <th>negative</th>\n",
              "      <th>positive</th>\n",
              "      <th>score</th>\n",
              "      <th>united</th>\n",
              "    </tr>\n",
              "  </thead>\n",
              "  <tbody>\n",
              "    <tr>\n",
              "      <th>0</th>\n",
              "      <td>there be issue with the wifi connection</td>\n",
              "      <td></td>\n",
              "      <td>7.1</td>\n",
              "      <td>there be issue with the wifi connection</td>\n",
              "    </tr>\n",
              "    <tr>\n",
              "      <th>1</th>\n",
              "      <td>tv not work</td>\n",
              "      <td></td>\n",
              "      <td>7.5</td>\n",
              "      <td>tv not work</td>\n",
              "    </tr>\n",
              "    <tr>\n",
              "      <th>2</th>\n",
              "      <td>more pillow</td>\n",
              "      <td>beautiful room great location lovely staff</td>\n",
              "      <td>10.0</td>\n",
              "      <td>more pillow beautiful room great location love...</td>\n",
              "    </tr>\n",
              "    <tr>\n",
              "      <th>3</th>\n",
              "      <td>very business</td>\n",
              "      <td>location</td>\n",
              "      <td>5.4</td>\n",
              "      <td>very business location</td>\n",
              "    </tr>\n",
              "    <tr>\n",
              "      <th>4</th>\n",
              "      <td>room could do with a bit of a refurbishment as...</td>\n",
              "      <td>nice breakfast handy for victoria train statio...</td>\n",
              "      <td>6.7</td>\n",
              "      <td>room could do with a bit of a refurbishment as...</td>\n",
              "    </tr>\n",
              "    <tr>\n",
              "      <th>...</th>\n",
              "      <td>...</td>\n",
              "      <td>...</td>\n",
              "      <td>...</td>\n",
              "      <td>...</td>\n",
              "    </tr>\n",
              "    <tr>\n",
              "      <th>99995</th>\n",
              "      <td>no coffee facility in room air con didn t seem...</td>\n",
              "      <td>very quiet for a central london hotel comfy be...</td>\n",
              "      <td>7.9</td>\n",
              "      <td>no coffee facility in room air con didn t seem...</td>\n",
              "    </tr>\n",
              "    <tr>\n",
              "      <th>99996</th>\n",
              "      <td>the room be far too hot on the first night 28 ...</td>\n",
              "      <td>breakfast be fine welcome with cava be good</td>\n",
              "      <td>4.2</td>\n",
              "      <td>the room be far too hot on the first night 28 ...</td>\n",
              "    </tr>\n",
              "    <tr>\n",
              "      <th>99997</th>\n",
              "      <td>terrible wear out mattress dust behind the hea...</td>\n",
              "      <td>the well meaning staff</td>\n",
              "      <td>5.0</td>\n",
              "      <td>terrible wear out mattress dust behind the hea...</td>\n",
              "    </tr>\n",
              "    <tr>\n",
              "      <th>99998</th>\n",
              "      <td></td>\n",
              "      <td>very profissional and nice staff very well dec...</td>\n",
              "      <td>9.6</td>\n",
              "      <td>very profissional and nice staff very well de...</td>\n",
              "    </tr>\n",
              "    <tr>\n",
              "      <th>99999</th>\n",
              "      <td></td>\n",
              "      <td>great breakfast and the room be clean location...</td>\n",
              "      <td>10.0</td>\n",
              "      <td>great breakfast and the room be clean locatio...</td>\n",
              "    </tr>\n",
              "  </tbody>\n",
              "</table>\n",
              "<p>100000 rows × 4 columns</p>\n",
              "</div>"
            ],
            "text/plain": [
              "                                                negative  \\\n",
              "0                there be issue with the wifi connection   \n",
              "1                                            tv not work   \n",
              "2                                            more pillow   \n",
              "3                                          very business   \n",
              "4      room could do with a bit of a refurbishment as...   \n",
              "...                                                  ...   \n",
              "99995  no coffee facility in room air con didn t seem...   \n",
              "99996  the room be far too hot on the first night 28 ...   \n",
              "99997  terrible wear out mattress dust behind the hea...   \n",
              "99998                                                      \n",
              "99999                                                      \n",
              "\n",
              "                                                positive  score  \\\n",
              "0                                                           7.1   \n",
              "1                                                           7.5   \n",
              "2             beautiful room great location lovely staff   10.0   \n",
              "3                                               location    5.4   \n",
              "4      nice breakfast handy for victoria train statio...    6.7   \n",
              "...                                                  ...    ...   \n",
              "99995  very quiet for a central london hotel comfy be...    7.9   \n",
              "99996        breakfast be fine welcome with cava be good    4.2   \n",
              "99997                             the well meaning staff    5.0   \n",
              "99998  very profissional and nice staff very well dec...    9.6   \n",
              "99999  great breakfast and the room be clean location...   10.0   \n",
              "\n",
              "                                                  united  \n",
              "0               there be issue with the wifi connection   \n",
              "1                                           tv not work   \n",
              "2      more pillow beautiful room great location love...  \n",
              "3                                 very business location  \n",
              "4      room could do with a bit of a refurbishment as...  \n",
              "...                                                  ...  \n",
              "99995  no coffee facility in room air con didn t seem...  \n",
              "99996  the room be far too hot on the first night 28 ...  \n",
              "99997  terrible wear out mattress dust behind the hea...  \n",
              "99998   very profissional and nice staff very well de...  \n",
              "99999   great breakfast and the room be clean locatio...  \n",
              "\n",
              "[100000 rows x 4 columns]"
            ]
          },
          "metadata": {
            "tags": []
          },
          "execution_count": 50
        }
      ]
    },
    {
      "cell_type": "code",
      "metadata": {
        "id": "f2_XM-XSYucR"
      },
      "source": [
        "df_train, df_test = train_test_split(df, random_state=42)"
      ],
      "execution_count": null,
      "outputs": []
    },
    {
      "cell_type": "markdown",
      "metadata": {
        "id": "hqXvzjPJYucR"
      },
      "source": [
        "### Часть 1. 1 балл"
      ]
    },
    {
      "cell_type": "markdown",
      "metadata": {
        "id": "y1oJoeoIYucR"
      },
      "source": [
        "Обучите логистическую регрессию на TF-IDF векторах текстов."
      ]
    },
    {
      "cell_type": "code",
      "metadata": {
        "id": "w_G78KL-YucR"
      },
      "source": [
        "X_train, y_train = df_train.drop('score', axis=1), df_train['score']\n",
        "X_test, y_test = df_test.drop('score', axis=1), df_test['score']"
      ],
      "execution_count": null,
      "outputs": []
    },
    {
      "cell_type": "code",
      "metadata": {
        "id": "WP-2Cn-DYucS",
        "outputId": "f1f8c058-88c0-4edf-c9a8-ec9c2b86ed89"
      },
      "source": [
        "df_train_separate = pd.concat([df_train['negative'], df_train['positive'], df_test['negative'], df_test['positive'], df_kaggle['negative'], df_kaggle['positive']], axis=0)\n",
        "df_train_separate"
      ],
      "execution_count": null,
      "outputs": [
        {
          "output_type": "execute_result",
          "data": {
            "text/plain": [
              "98980    cup wash up each day -PRON- stay dirty all wee...\n",
              "69824                              tiny but tidy cosy pool\n",
              "9928                                                      \n",
              "75599    the wall between the room be a bit thin -PRON-...\n",
              "95621                                              nothing\n",
              "                               ...                        \n",
              "19995                                                     \n",
              "19996    great location on the piccadilly line so easy ...\n",
              "19997    great location very nice design great breakfas...\n",
              "19998    the entrance area look great and the ground fl...\n",
              "19999    -PRON- be big the staff be kind the food be go...\n",
              "Length: 240000, dtype: object"
            ]
          },
          "metadata": {
            "tags": []
          },
          "execution_count": 141
        }
      ]
    },
    {
      "cell_type": "code",
      "metadata": {
        "id": "mhz5hMUUYucS",
        "outputId": "745f1397-1938-41d8-b2c7-842134a20e2d"
      },
      "source": [
        "%%time\n",
        "\n",
        "vec_united = TfidfVectorizer(ngram_range=(1, 2), stop_words=stopwords_eng)\n",
        "vec_united = vec_united.fit(X_train['united'])"
      ],
      "execution_count": null,
      "outputs": [
        {
          "output_type": "stream",
          "text": [
            "Wall time: 3.11 s\n"
          ],
          "name": "stdout"
        }
      ]
    },
    {
      "cell_type": "code",
      "metadata": {
        "id": "8BHacFgrYucS",
        "outputId": "6c86a393-458c-4138-e204-ca0e1236696b"
      },
      "source": [
        "%%time\n",
        "\n",
        "vec_separate = TfidfVectorizer(ngram_range=(1, 2))\n",
        "vec_separate = vec_separate.fit(df_train_separate)"
      ],
      "execution_count": null,
      "outputs": [
        {
          "output_type": "stream",
          "text": [
            "Wall time: 2.4 s\n"
          ],
          "name": "stdout"
        }
      ]
    },
    {
      "cell_type": "code",
      "metadata": {
        "id": "FsB_mjQXYucS"
      },
      "source": [
        "def get_bow_separate(df):\n",
        "    bow_negative = vec_separate.transform(df['negative'])\n",
        "    bow_positive = vec_separate.transform(df['positive'])\n",
        "    bow = scipy.sparse.hstack([bow_negative, bow_positive])\n",
        "    \n",
        "    return bow\n",
        "\n",
        "\n",
        "def get_bow_united(df):\n",
        "    bow = vec_united.transform(df['united'])\n",
        "    \n",
        "    return bow"
      ],
      "execution_count": null,
      "outputs": []
    },
    {
      "cell_type": "code",
      "metadata": {
        "id": "ET_IfP9zYucS",
        "outputId": "b855c9ae-0a19-4c80-caa3-65031583fb3e"
      },
      "source": [
        "%%time\n",
        "\n",
        "# positive и negative части отзывов рассматриваются отдельно\n",
        "lr_model = Ridge()\n",
        "lr_model.fit(get_bow_separate(X_train), y_train)\n",
        "print(mean_absolute_error(lr_model.predict(get_bow_separate(X_test)), y_test))"
      ],
      "execution_count": null,
      "outputs": [
        {
          "output_type": "stream",
          "text": [
            "0.8331466708469388\n",
            "Wall time: 2.66 s\n"
          ],
          "name": "stdout"
        }
      ]
    },
    {
      "cell_type": "code",
      "metadata": {
        "id": "_8Rg4177YucT",
        "outputId": "3768632f-8d93-4643-d596-fdd6b3af7de4"
      },
      "source": [
        "%%time\n",
        "\n",
        "# positive и negative части отзывов рассматриваются отдельно\n",
        "lr_model = GradientBoostingRegressor()\n",
        "lr_model.fit(get_bow_separate(X_train), y_train)\n",
        "print(mean_absolute_error(lr_model.predict(get_bow_separate(X_test)), y_test))"
      ],
      "execution_count": null,
      "outputs": [
        {
          "output_type": "stream",
          "text": [
            "0.9002960588274448\n",
            "Wall time: 3min 46s\n"
          ],
          "name": "stdout"
        }
      ]
    },
    {
      "cell_type": "code",
      "metadata": {
        "id": "Da2gIyAvYucT",
        "outputId": "87f1c648-7dee-46d0-c40b-aaf746ecf6dc"
      },
      "source": [
        "%%time\n",
        "\n",
        "# positive и negative части отзывов объединены\n",
        "lr_model = Ridge()\n",
        "lr_model.fit(get_bow_united(X_train), y_train)\n",
        "print(mean_absolute_error(lr_model.predict(get_bow_united(X_test)), y_test))"
      ],
      "execution_count": null,
      "outputs": [
        {
          "output_type": "stream",
          "text": [
            "0.8985487394485128\n",
            "Wall time: 4.14 s\n"
          ],
          "name": "stdout"
        }
      ]
    },
    {
      "cell_type": "markdown",
      "metadata": {
        "id": "3fMwiuh-YucT"
      },
      "source": [
        "### Часть 2. 3 балла"
      ]
    },
    {
      "cell_type": "markdown",
      "metadata": {
        "id": "I9t7_BQTYucT"
      },
      "source": [
        "Обучите логистическую регрессию на усредненных Word2Vec векторах. "
      ]
    },
    {
      "cell_type": "code",
      "metadata": {
        "id": "F3qye27BYucT"
      },
      "source": [
        "w2v_model_united = Word2Vec(sentences=[x.split() for x in df_train['united']], size=300, window=10, workers=4)"
      ],
      "execution_count": null,
      "outputs": []
    },
    {
      "cell_type": "code",
      "metadata": {
        "id": "cm3UtgBVYucU"
      },
      "source": [
        "w2v_model_separate = Word2Vec(sentences=[x.split() for x in df_train_separate], size=300, window=10, workers=4)"
      ],
      "execution_count": null,
      "outputs": []
    },
    {
      "cell_type": "code",
      "metadata": {
        "id": "ZaHH-RqRYucU"
      },
      "source": [
        "def get_embeddings_united(df, model_united, fasttext_model=False):\n",
        "    def vectorize_sentence(text):\n",
        "        text = text.split()\n",
        "        vectorized = []\n",
        "        for word in text:\n",
        "            if word in model_united.wv:\n",
        "                vectorized.append(model_united.wv[word])\n",
        "            else:\n",
        "                if fasttext_model:\n",
        "                    vectorized.append(model_united.wv[model_separate.wv.most_similar(word)[0][0]])\n",
        "        if not vectorized:\n",
        "            vectorized = [np.zeros(model_united.wv.vector_size)]\n",
        "        vectorized = np.array(vectorized)\n",
        "        vectorized = np.sum(vectorized, axis=0)\n",
        "        \n",
        "        return vectorized\n",
        "\n",
        "    embeddings_united = np.array([vectorize_sentence(x) for x in df['united']])\n",
        "    \n",
        "    return embeddings_united\n",
        "\n",
        "\n",
        "def get_embeddings_separate(df, model_separate, fasttext_model=False):\n",
        "    def vectorize_sentence(text):\n",
        "        text = text.split()\n",
        "        vectorized = []\n",
        "        for word in text:\n",
        "            if word in model_separate.wv:\n",
        "                vectorized.append(model_separate.wv[word])\n",
        "            else:\n",
        "                if fasttext_model:\n",
        "                    vectorized.append(model_separate.wv[model_separate.wv.most_similar(word)[0][0]])\n",
        "        if not vectorized:\n",
        "            vectorized = [np.zeros(model_separate.wv.vector_size)]\n",
        "        vectorized = np.array(vectorized)\n",
        "        vectorized = np.sum(vectorized, axis=0)\n",
        "\n",
        "        return vectorized\n",
        "    \n",
        "    embeddings_negative = np.array([vectorize_sentence(x) for x in df['negative']])\n",
        "    embeddings_positive = np.array([vectorize_sentence(x) for x in df['positive']])\n",
        "    embeddings_separate = np.hstack([embeddings_negative, embeddings_positive])\n",
        "    \n",
        "    return embeddings_separate"
      ],
      "execution_count": null,
      "outputs": []
    },
    {
      "cell_type": "code",
      "metadata": {
        "id": "GG5GbiglYucU",
        "outputId": "f8cc7afc-b624-42d5-a996-178502b85fbd"
      },
      "source": [
        "%%time\n",
        "\n",
        "# positive и negative части отзывов объединены\n",
        "lr_model = Ridge()\n",
        "lr_model.fit(get_word2vec_united(X_train), y_train)\n",
        "print(mean_absolute_error(lr_model.predict(get_word2vec_united(X_test)), y_test))"
      ],
      "execution_count": null,
      "outputs": [
        {
          "output_type": "stream",
          "text": [
            "0.9905164540736063\n",
            "Wall time: 6.05 s\n"
          ],
          "name": "stdout"
        }
      ]
    },
    {
      "cell_type": "code",
      "metadata": {
        "id": "kXzSy2-AYucU",
        "outputId": "983c494b-882e-45dc-add2-87e063c62a24"
      },
      "source": [
        "%%time\n",
        "\n",
        "# positive и negative части отзывов рассматриваются отдельно\n",
        "lr_model = Ridge()\n",
        "lr_model.fit(get_embeddings_separate(X_train, w2v_model_separate), y_train)\n",
        "print(mean_absolute_error(lr_model.predict(get_embeddings_separate(X_test, w2v_model_separate)), y_test))"
      ],
      "execution_count": null,
      "outputs": [
        {
          "output_type": "stream",
          "text": [
            "0.9279350965053932\n",
            "Wall time: 7.32 s\n"
          ],
          "name": "stdout"
        }
      ]
    },
    {
      "cell_type": "code",
      "metadata": {
        "id": "o07j92TqYucU",
        "outputId": "79d3e66d-26da-4009-ab5f-84596e076e69"
      },
      "source": [
        "%%time\n",
        "\n",
        "# positive и negative части отзывов объединены\n",
        "vector_size_range = list(range(100, 501, 50))\n",
        "mae_log = []\n",
        "for vector_size in vector_size_range:\n",
        "    w2v_model_united = Word2Vec(sentences=[x.split() for x in df_train['united']], size=vector_size, window=10, workers=4)\n",
        "    lr_model = Ridge()\n",
        "    lr_model.fit(get_word2vec_united(X_train), y_train)\n",
        "    mae = mean_absolute_error(lr_model.predict(get_word2vec_united(X_test)), y_test)\n",
        "    mae_log.append(mae)\n",
        "\n",
        "plt.plot(vector_size_range, mae_log)\n",
        "plt.title('MAE depending on Word2Vec vector size (uniform word weights)')\n",
        "plt.ylabel('MAE loss')\n",
        "plt.xlabel('vector size');"
      ],
      "execution_count": null,
      "outputs": [
        {
          "output_type": "stream",
          "text": [
            "Wall time: 1min 58s\n"
          ],
          "name": "stdout"
        },
        {
          "output_type": "execute_result",
          "data": {
            "text/plain": [
              "Text(0.5, 0, 'vector size')"
            ]
          },
          "metadata": {
            "tags": []
          },
          "execution_count": 209
        },
        {
          "output_type": "display_data",
          "data": {
            "image/png": "[encoded data removed]",
            "text/plain": [
              "<Figure size 432x288 with 1 Axes>"
            ]
          },
          "metadata": {
            "tags": [],
            "needs_background": "light"
          }
        }
      ]
    },
    {
      "cell_type": "code",
      "metadata": {
        "id": "GVkSOYy2YucV",
        "outputId": "29c1da6e-1efb-4c62-f386-6f2eeb7bd719"
      },
      "source": [
        "%%time\n",
        "\n",
        "# positive и negative части отзывов рассматриваются отдельно\n",
        "vector_size_range = list(range(100, 501, 50))\n",
        "mae_log = []\n",
        "for vector_size in vector_size_range:\n",
        "    w2v_model_separate = Word2Vec(sentences=[x.split() for x in df_train_separate], size=vector_size, window=10, workers=4)\n",
        "    lr_model = Ridge()\n",
        "    lr_model.fit(get_word2vec_separate(X_train), y_train)\n",
        "    mae = mean_absolute_error(lr_model.predict(get_word2vec_separate(X_test)), y_test)\n",
        "    mae_log.append(mae)\n",
        "\n",
        "plt.plot(vector_size_range, mae_log)\n",
        "plt.title('MAE depending on Word2Vec vector size (uniform word weights)')\n",
        "plt.ylabel('MAE loss')\n",
        "plt.xlabel('vector size');"
      ],
      "execution_count": null,
      "outputs": [
        {
          "output_type": "stream",
          "text": [
            "Wall time: 2min 10s\n"
          ],
          "name": "stdout"
        },
        {
          "output_type": "execute_result",
          "data": {
            "text/plain": [
              "Text(0.5, 0, 'vector size')"
            ]
          },
          "metadata": {
            "tags": []
          },
          "execution_count": 207
        },
        {
          "output_type": "display_data",
          "data": {
            "image/png": "[encoded data removed]",
            "text/plain": [
              "<Figure size 432x288 with 1 Axes>"
            ]
          },
          "metadata": {
            "tags": [],
            "needs_background": "light"
          }
        }
      ]
    },
    {
      "cell_type": "markdown",
      "metadata": {
        "id": "lx1t1JPNYucV"
      },
      "source": [
        "Усредняя w2v вектора, мы предполагаем, что каждое слово имеет равноценный вклад в смысл предложения, однако это может быть не совсем так. Теперь попробуйте воспользоваться другой концепцией и перевзвесить слова при получении итогового эмбеддинга текста. В качестве весов используйте IDF (Inverse document frequency)"
      ]
    },
    {
      "cell_type": "code",
      "metadata": {
        "id": "3kptN7gJYucV"
      },
      "source": [
        "def calc_idf(word, texts):\n",
        "    document_count = 0\n",
        "    for text in texts:\n",
        "        if word in text:\n",
        "            document_count += 1\n",
        "    idf = log(len(texts) / document_count)\n",
        "    \n",
        "    return idf"
      ],
      "execution_count": null,
      "outputs": []
    },
    {
      "cell_type": "code",
      "metadata": {
        "id": "AJ--N85NYucW",
        "outputId": "ed41fb01-0183-48e5-db62-5d7a4cc81467"
      },
      "source": [
        "%%time\n",
        "\n",
        "idf_united_documents = [x.split() for x in df_train['united']]\n",
        "idf_united = {word : calc_idf(word, idf_united_documents) for word in w2v_model_united.wv.vocab}"
      ],
      "execution_count": null,
      "outputs": [
        {
          "output_type": "stream",
          "text": [
            "Wall time: 3min 9s\n"
          ],
          "name": "stdout"
        }
      ]
    },
    {
      "cell_type": "code",
      "metadata": {
        "id": "0YufUyOwYucW",
        "outputId": "27e3c685-afb2-4c1f-9600-f1e3f3b9db38"
      },
      "source": [
        "%%time\n",
        "\n",
        "idf_separate_documents = [x.split() for x in df_train_separate]\n",
        "idf_separate = {word : calc_idf(word, idf_separate_documents) for word in w2v_model_separate.wv.vocab}"
      ],
      "execution_count": null,
      "outputs": [
        {
          "output_type": "stream",
          "text": [
            "Wall time: 3min 26s\n"
          ],
          "name": "stdout"
        }
      ]
    },
    {
      "cell_type": "code",
      "metadata": {
        "id": "cFbxGnytYucW"
      },
      "source": [
        "def get_embeddings_united_idf(df, model_united):\n",
        "    def vectorize_sentence(text):\n",
        "        text = text.split()\n",
        "        vectorized = []\n",
        "        for word in text:\n",
        "            if word in model_united.wv:\n",
        "                vectorized.append(model_united.wv[word] * idf_united[word])\n",
        "        if not vectorized:\n",
        "            vectorized = [np.zeros(model_united.wv.vector_size)]\n",
        "        vectorized = np.array(vectorized)\n",
        "        vectorized = np.sum(vectorized, axis=0)\n",
        "        \n",
        "        return vectorized\n",
        "\n",
        "    embeddings_united = np.array([vectorize_sentence(x) for x in df['united']])\n",
        "    \n",
        "    return embeddings_united\n",
        "\n",
        "def get_embeddings_separate_idf(df, model_separate):\n",
        "    def vectorize_sentence(text):\n",
        "        text = text.split()\n",
        "        vectorized = []\n",
        "        for word in text:\n",
        "            if word in model_separate.wv:\n",
        "                vectorized.append(model_separate.wv[word] * idf_separate[word])\n",
        "        if not vectorized:\n",
        "            vectorized = [np.zeros(model_separate.wv.vector_size)]\n",
        "        vectorized = np.array(vectorized)\n",
        "        vectorized = np.sum(vectorized, axis=0)\n",
        "\n",
        "        return vectorized\n",
        "    \n",
        "    embeddings_negative = np.array([vectorize_sentence(x) for x in df['negative']])\n",
        "    embeddings_positive = np.array([vectorize_sentence(x) for x in df['positive']])\n",
        "    embeddings_separate = np.hstack([embeddings_negative, embeddings_positive])\n",
        "    \n",
        "    return embeddings_separate"
      ],
      "execution_count": null,
      "outputs": []
    },
    {
      "cell_type": "code",
      "metadata": {
        "id": "IEtaot-BYucW",
        "outputId": "29b45ccc-73e9-476b-a22c-472eabb36d07"
      },
      "source": [
        "%%time\n",
        "\n",
        "# positive и negative части отзывов объединены\n",
        "vector_size_range = list(range(100, 501, 50))\n",
        "mae_log = []\n",
        "for vector_size in vector_size_range:\n",
        "    w2v_model_united = Word2Vec(sentences=[x.split() for x in df_train['united']], size=vector_size, window=10, workers=4)\n",
        "    lr_model = Ridge()\n",
        "    lr_model.fit(get_embeddings_united_idf(X_train, wv2_model_united), y_train)\n",
        "    mae = mean_absolute_error(lr_model.predict(get_embeddings_united_idf(X_test, w2v_model_united)), y_test)\n",
        "    mae_log.append(mae)\n",
        "\n",
        "plt.plot(vector_size_range, mae_log)\n",
        "plt.title('MAE depending on Word2Vec vector size (IDF word weights)')\n",
        "plt.ylabel('MAE loss')\n",
        "plt.xlabel('vector size');"
      ],
      "execution_count": null,
      "outputs": [
        {
          "output_type": "stream",
          "text": [
            "Wall time: 2min 33s\n"
          ],
          "name": "stdout"
        },
        {
          "output_type": "execute_result",
          "data": {
            "text/plain": [
              "Text(0.5, 0, 'vector size')"
            ]
          },
          "metadata": {
            "tags": []
          },
          "execution_count": 246
        },
        {
          "output_type": "display_data",
          "data": {
            "image/png": "[encoded data removed]",
            "text/plain": [
              "<Figure size 432x288 with 1 Axes>"
            ]
          },
          "metadata": {
            "tags": [],
            "needs_background": "light"
          }
        }
      ]
    },
    {
      "cell_type": "code",
      "metadata": {
        "id": "xbidpmI1YucW",
        "outputId": "0495d415-7f55-4f12-968a-ee984a76a693"
      },
      "source": [
        "%%time\n",
        "\n",
        "# positive и negative части отзывов рассматриваются отдельно\n",
        "vector_size_range = list(range(100, 501, 50))\n",
        "mae_log = []\n",
        "for vector_size in vector_size_range:\n",
        "    w2v_model_separate = Word2Vec(sentences=[x.split() for x in df_train_separate], size=vector_size, window=10, workers=4)\n",
        "    lr_model = Ridge()\n",
        "    lr_model.fit(get_embeddings_separate_idf(X_train, wv2_model_separate), y_train)\n",
        "    mae = mean_absolute_error(lr_model.predict(get_embeddings_separate_idf(X_test, w2v_model_separate)), y_test)\n",
        "    mae_log.append(mae)\n",
        "\n",
        "plt.plot(vector_size_range, mae_log)\n",
        "plt.title('MAE depending on Word2Vec vector size (IDF word weights)')\n",
        "plt.ylabel('MAE loss')\n",
        "plt.xlabel('vector size');"
      ],
      "execution_count": null,
      "outputs": [
        {
          "output_type": "stream",
          "text": [
            "Wall time: 2min 49s\n"
          ],
          "name": "stdout"
        },
        {
          "output_type": "execute_result",
          "data": {
            "text/plain": [
              "Text(0.5, 0, 'vector size')"
            ]
          },
          "metadata": {
            "tags": []
          },
          "execution_count": 239
        },
        {
          "output_type": "display_data",
          "data": {
            "image/png": "[encoded data removed]",
            "text/plain": [
              "<Figure size 432x288 with 1 Axes>"
            ]
          },
          "metadata": {
            "tags": [],
            "needs_background": "light"
          }
        }
      ]
    },
    {
      "cell_type": "markdown",
      "metadata": {
        "id": "fws0XNU6YucX"
      },
      "source": [
        "Проведите эксперименты с размерностью эмбеддинга. Для каждого из двух методов постройте график зависимости качества модели от размерности эмбеддинга. \n",
        "#### Сделайте выводы:\n",
        "Для каждого из двух методов с увеличением размерности эмбеддинга ошибка уменьшается."
      ]
    },
    {
      "cell_type": "markdown",
      "metadata": {
        "id": "3fsNfqNGYucX"
      },
      "source": [
        "Теперь попробуйте обучить логистическую регрессию на любых других эмбеддингах размерности 300 и сравните качество с Word2Vec.\n",
        "#### Выводы:\n",
        "Модель, обученная на эмбеддингах FastText, дает схожие результаты с моделью, обученной на эмбеддингах Word2Vec."
      ]
    },
    {
      "cell_type": "code",
      "metadata": {
        "id": "A-W0JOFIYucX"
      },
      "source": [
        "ft_model_separate = FastText(sentences=[x.split() for x in df_train_separate], size=300, window=10, workers=4)"
      ],
      "execution_count": null,
      "outputs": []
    },
    {
      "cell_type": "code",
      "metadata": {
        "id": "dq1te8YjYucX",
        "outputId": "d63088db-5596-4389-c4e6-b05f6d9691d9"
      },
      "source": [
        "%%time\n",
        "\n",
        "lr_model = Ridge()\n",
        "lr_model.fit(get_embeddings_separate(X_train, ft_model_separate, fasttext_model=True), y_train)\n",
        "print(mean_absolute_error(lr_model.predict(get_embeddings_separate(X_test, ft_model_separate, fasttext_model=True)), y_test))"
      ],
      "execution_count": null,
      "outputs": [
        {
          "output_type": "stream",
          "text": [
            "0.9327306785283679\n",
            "Wall time: 14.7 s\n"
          ],
          "name": "stdout"
        }
      ]
    },
    {
      "cell_type": "markdown",
      "metadata": {
        "id": "8wx4py1UYucY"
      },
      "source": [
        "### Часть 3. 6 баллов"
      ]
    },
    {
      "cell_type": "markdown",
      "metadata": {
        "id": "ZAyzhK2_YucY"
      },
      "source": [
        "Теперь давайте воспользуемся более продвинутыми методами обработки текстовых данных, которые мы проходили в нашем курсе. Обучите RNN/Transformer для предсказания пользовательской оценки. Получите ошибку меньше, чем во всех вышеперечисленных методах."
      ]
    },
    {
      "cell_type": "markdown",
      "metadata": {
        "id": "4Veup8XKYucY"
      },
      "source": [
        "Если будете обучать RNN, попробуйте ограничить максимальную длину предложения. Некоторые отзывы могут быть слишком длинные относительно остальных.\n",
        "\n",
        "Чтобы пользоваться DataLoader, все его элементы должны быть одинаковой размерности. Для этого вы можете добавить нулевой паддинг ко всем предложениям (см пример pad_sequence)"
      ]
    },
    {
      "cell_type": "code",
      "metadata": {
        "id": "NdKX0nW4YucY"
      },
      "source": [
        "import pandas as pd\n",
        "import numpy as np\n",
        "\n",
        "import matplotlib.pyplot as plt\n",
        "from IPython.display import clear_output\n",
        "\n",
        "import torch\n",
        "from torch import nn\n",
        "from torch.nn import functional as F\n",
        "from torch.nn.utils.rnn import pad_sequence\n",
        "from torch.utils.data import random_split"
      ],
      "execution_count": 90,
      "outputs": []
    },
    {
      "cell_type": "code",
      "metadata": {
        "colab": {
          "base_uri": "https://localhost:8080/"
        },
        "id": "uaziS8BmY4ae",
        "outputId": "d5b3018d-607e-4b7b-a971-894a7b9dc47b"
      },
      "source": [
        "from google.colab import drive\n",
        "drive.mount('/content/drive')"
      ],
      "execution_count": null,
      "outputs": [
        {
          "output_type": "stream",
          "text": [
            "Mounted at /content/drive\n"
          ],
          "name": "stdout"
        }
      ]
    },
    {
      "cell_type": "code",
      "metadata": {
        "id": "cpFfHRBSY9PR"
      },
      "source": [
        "csv_path = '/content/drive/MyDrive/Colab Notebooks/ИАД — Современные методы машинного обучения/hw3/train_reviews.csv'"
      ],
      "execution_count": 2,
      "outputs": []
    },
    {
      "cell_type": "code",
      "metadata": {
        "colab": {
          "base_uri": "https://localhost:8080/",
          "height": 402
        },
        "id": "AXDqHgg_YucY",
        "outputId": "50d4ff60-47b4-4f2c-a890-883cf828f43a"
      },
      "source": [
        "nn_df = pd.read_csv(csv_path, index_col=[0]).fillna('')\n",
        "nn_df['negative'] = nn_df['negative'].apply(lambda x: x.split())\n",
        "nn_df['positive'] = nn_df['positive'].apply(lambda x: x.split())\n",
        "nn_df"
      ],
      "execution_count": 3,
      "outputs": [
        {
          "output_type": "execute_result",
          "data": {
            "text/html": [
              "<div>\n",
              "<style scoped>\n",
              "    .dataframe tbody tr th:only-of-type {\n",
              "        vertical-align: middle;\n",
              "    }\n",
              "\n",
              "    .dataframe tbody tr th {\n",
              "        vertical-align: top;\n",
              "    }\n",
              "\n",
              "    .dataframe thead th {\n",
              "        text-align: right;\n",
              "    }\n",
              "</style>\n",
              "<table border=\"1\" class=\"dataframe\">\n",
              "  <thead>\n",
              "    <tr style=\"text-align: right;\">\n",
              "      <th></th>\n",
              "      <th>negative</th>\n",
              "      <th>positive</th>\n",
              "      <th>score</th>\n",
              "      <th>united</th>\n",
              "    </tr>\n",
              "  </thead>\n",
              "  <tbody>\n",
              "    <tr>\n",
              "      <th>0</th>\n",
              "      <td>[there, be, issue, with, the, wifi, connection]</td>\n",
              "      <td>[]</td>\n",
              "      <td>7.1</td>\n",
              "      <td>there be issue with the wifi connection</td>\n",
              "    </tr>\n",
              "    <tr>\n",
              "      <th>1</th>\n",
              "      <td>[tv, not, work]</td>\n",
              "      <td>[]</td>\n",
              "      <td>7.5</td>\n",
              "      <td>tv not work</td>\n",
              "    </tr>\n",
              "    <tr>\n",
              "      <th>2</th>\n",
              "      <td>[more, pillow]</td>\n",
              "      <td>[beautiful, room, great, location, lovely, staff]</td>\n",
              "      <td>10.0</td>\n",
              "      <td>more pillow beautiful room great location love...</td>\n",
              "    </tr>\n",
              "    <tr>\n",
              "      <th>3</th>\n",
              "      <td>[very, business]</td>\n",
              "      <td>[location]</td>\n",
              "      <td>5.4</td>\n",
              "      <td>very business location</td>\n",
              "    </tr>\n",
              "    <tr>\n",
              "      <th>4</th>\n",
              "      <td>[room, could, do, with, a, bit, of, a, refurbi...</td>\n",
              "      <td>[nice, breakfast, handy, for, victoria, train,...</td>\n",
              "      <td>6.7</td>\n",
              "      <td>room could do with a bit of a refurbishment as...</td>\n",
              "    </tr>\n",
              "    <tr>\n",
              "      <th>...</th>\n",
              "      <td>...</td>\n",
              "      <td>...</td>\n",
              "      <td>...</td>\n",
              "      <td>...</td>\n",
              "    </tr>\n",
              "    <tr>\n",
              "      <th>99995</th>\n",
              "      <td>[no, coffee, facility, in, room, air, con, did...</td>\n",
              "      <td>[very, quiet, for, a, central, london, hotel, ...</td>\n",
              "      <td>7.9</td>\n",
              "      <td>no coffee facility in room air con didn t seem...</td>\n",
              "    </tr>\n",
              "    <tr>\n",
              "      <th>99996</th>\n",
              "      <td>[the, room, be, far, too, hot, on, the, first,...</td>\n",
              "      <td>[breakfast, be, fine, welcome, with, cava, be,...</td>\n",
              "      <td>4.2</td>\n",
              "      <td>the room be far too hot on the first night 28 ...</td>\n",
              "    </tr>\n",
              "    <tr>\n",
              "      <th>99997</th>\n",
              "      <td>[terrible, wear, out, mattress, dust, behind, ...</td>\n",
              "      <td>[the, well, meaning, staff]</td>\n",
              "      <td>5.0</td>\n",
              "      <td>terrible wear out mattress dust behind the hea...</td>\n",
              "    </tr>\n",
              "    <tr>\n",
              "      <th>99998</th>\n",
              "      <td>[]</td>\n",
              "      <td>[very, profissional, and, nice, staff, very, w...</td>\n",
              "      <td>9.6</td>\n",
              "      <td>very profissional and nice staff very well de...</td>\n",
              "    </tr>\n",
              "    <tr>\n",
              "      <th>99999</th>\n",
              "      <td>[]</td>\n",
              "      <td>[great, breakfast, and, the, room, be, clean, ...</td>\n",
              "      <td>10.0</td>\n",
              "      <td>great breakfast and the room be clean locatio...</td>\n",
              "    </tr>\n",
              "  </tbody>\n",
              "</table>\n",
              "<p>100000 rows × 4 columns</p>\n",
              "</div>"
            ],
            "text/plain": [
              "                                                negative  ...                                             united\n",
              "0        [there, be, issue, with, the, wifi, connection]  ...           there be issue with the wifi connection \n",
              "1                                        [tv, not, work]  ...                                       tv not work \n",
              "2                                         [more, pillow]  ...  more pillow beautiful room great location love...\n",
              "3                                       [very, business]  ...                             very business location\n",
              "4      [room, could, do, with, a, bit, of, a, refurbi...  ...  room could do with a bit of a refurbishment as...\n",
              "...                                                  ...  ...                                                ...\n",
              "99995  [no, coffee, facility, in, room, air, con, did...  ...  no coffee facility in room air con didn t seem...\n",
              "99996  [the, room, be, far, too, hot, on, the, first,...  ...  the room be far too hot on the first night 28 ...\n",
              "99997  [terrible, wear, out, mattress, dust, behind, ...  ...  terrible wear out mattress dust behind the hea...\n",
              "99998                                                 []  ...   very profissional and nice staff very well de...\n",
              "99999                                                 []  ...   great breakfast and the room be clean locatio...\n",
              "\n",
              "[100000 rows x 4 columns]"
            ]
          },
          "metadata": {
            "tags": []
          },
          "execution_count": 3
        }
      ]
    },
    {
      "cell_type": "code",
      "metadata": {
        "colab": {
          "base_uri": "https://localhost:8080/"
        },
        "id": "X-rF4Vn5PT6M",
        "outputId": "54b24ec7-f41c-40f6-c3f2-57d29e14fa4d"
      },
      "source": [
        "nn_df_separate = pd.concat([nn_df['negative'], nn_df['positive']], axis=0)\r\n",
        "nn_df_separate"
      ],
      "execution_count": 83,
      "outputs": [
        {
          "output_type": "execute_result",
          "data": {
            "text/plain": [
              "0          [there, be, issue, with, the, wifi, connection]\n",
              "1                                          [tv, not, work]\n",
              "2                                           [more, pillow]\n",
              "3                                         [very, business]\n",
              "4        [room, could, do, with, a, bit, of, a, refurbi...\n",
              "                               ...                        \n",
              "99995    [very, quiet, for, a, central, london, hotel, ...\n",
              "99996    [breakfast, be, fine, welcome, with, cava, be,...\n",
              "99997                          [the, well, meaning, staff]\n",
              "99998    [very, profissional, and, nice, staff, very, w...\n",
              "99999    [great, breakfast, and, the, room, be, clean, ...\n",
              "Length: 200000, dtype: object"
            ]
          },
          "metadata": {
            "tags": []
          },
          "execution_count": 83
        }
      ]
    },
    {
      "cell_type": "code",
      "metadata": {
        "id": "UwzPTnLTYucY"
      },
      "source": [
        "WORDS = set()\n",
        "for sent in list(nn_df['positive']):\n",
        "    for w in sent:\n",
        "        WORDS.add(w)\n",
        "        \n",
        "for sent in list(nn_df['negative']):\n",
        "    for w in sent:\n",
        "        WORDS.add(w)"
      ],
      "execution_count": 4,
      "outputs": []
    },
    {
      "cell_type": "code",
      "metadata": {
        "id": "cmV9Ixh-YucY"
      },
      "source": [
        "int2word = dict(enumerate(tuple(WORDS)))\n",
        "word2int = {w: ii for ii, w in int2word.items()}"
      ],
      "execution_count": 5,
      "outputs": []
    },
    {
      "cell_type": "code",
      "metadata": {
        "colab": {
          "base_uri": "https://localhost:8080/"
        },
        "id": "q5wXESu5ZjWh",
        "outputId": "d85d0e9a-54e3-4930-97e7-854836380115"
      },
      "source": [
        "print(nn_df['negative'].apply(len).quantile(0.95))\r\n",
        "print(nn_df['positive'].apply(len).quantile(0.95))"
      ],
      "execution_count": 6,
      "outputs": [
        {
          "output_type": "stream",
          "text": [
            "67.0\n",
            "54.0\n"
          ],
          "name": "stdout"
        }
      ]
    },
    {
      "cell_type": "code",
      "metadata": {
        "id": "ey7JdLrXYucZ"
      },
      "source": [
        "# MAX_LEN = max(max(nn_df['positive'].apply(len)), max(nn_df['negative'].apply(len)))\r\n",
        "MAX_LEN = 70"
      ],
      "execution_count": 110,
      "outputs": []
    },
    {
      "cell_type": "code",
      "metadata": {
        "id": "yg16LPCZYucZ"
      },
      "source": [
        "class ReviewsDataset(torch.utils.data.Dataset):\n",
        "    def __init__(self, df):\n",
        "        self.negative_pad = pad_sequence([torch.as_tensor([word2int[w] for w in seq][:MAX_LEN], dtype=torch.long) for seq in df['negative']], \n",
        "                            batch_first=True)\n",
        "        self.positive_pad = pad_sequence([torch.as_tensor([word2int[w] for w in seq][:MAX_LEN], dtype=torch.long) for seq in df['positive']], \n",
        "                            batch_first=True)\n",
        "        self.pad = torch.hstack([self.negative_pad, self.positive_pad])\n",
        "        self.scores = df['score']\n",
        "        \n",
        "    def __len__(self):\n",
        "        return len(self.pad)\n",
        "    \n",
        "    def __getitem__(self, idx):\n",
        "        return self.pad[idx], torch.Tensor([self.scores.iloc[idx]])"
      ],
      "execution_count": 111,
      "outputs": []
    },
    {
      "cell_type": "code",
      "metadata": {
        "id": "DO1VTcWQYucZ"
      },
      "source": [
        "BATCH_SIZE = 64\n",
        "\n",
        "reviews_dataset = ReviewsDataset(nn_df)\n",
        "train_subset, test_subset = random_split(ReviewsDataset(nn_df), [75000, 25000], generator=torch.Generator().manual_seed(42))\n",
        "\n",
        "train_dataloader = torch.utils.data.DataLoader(train_subset, batch_size=BATCH_SIZE, drop_last=True)\n",
        "test_dataloader = torch.utils.data.DataLoader(test_subset, batch_size=BATCH_SIZE, drop_last=True)"
      ],
      "execution_count": 112,
      "outputs": []
    },
    {
      "cell_type": "code",
      "metadata": {
        "id": "QDVt2WlbYuca"
      },
      "source": [
        "class WordRNN(nn.Module):\n",
        "    \n",
        "    def __init__(self, tokens, n_hidden=256, n_layers=2,\n",
        "                    n_pad=MAX_LEN * 2, embed_dim=300, drop_prob=0.5, lr=0.001):\n",
        "        super().__init__()\n",
        "        self.drop_prob = drop_prob\n",
        "        self.n_layers = n_layers\n",
        "        self.n_hidden = n_hidden\n",
        "        self.embed_dim = embed_dim\n",
        "        self.lr = lr\n",
        "        \n",
        "        # creating character dictionaries\n",
        "        self.WORDS = tokens\n",
        "        self.int2word = dict(enumerate(self.WORDS))\n",
        "        self.word2int = {ch: ii for ii, ch in self.int2word.items()}\n",
        "        self.vocab_size = len(self.word2int)\n",
        "        \n",
        "        # define the embedding layer\n",
        "        self.embedding = nn.Embedding(self.vocab_size, self.embed_dim)\n",
        "        \n",
        "        ## TODO: define the LSTM\n",
        "        self.lstm = nn.LSTM(embed_dim,\n",
        "                            n_hidden, n_layers, \n",
        "                            dropout=drop_prob, batch_first=True)\n",
        "        \n",
        "        ## TODO: define a dropout layer\n",
        "        self.dropout = nn.Dropout(drop_prob)\n",
        "        \n",
        "        ## TODO: define the final, fully-connected output layer\n",
        "        self.fc = nn.Linear(n_hidden * n_pad, 1)\n",
        "      \n",
        "    \n",
        "    def forward(self, x, hidden):\n",
        "        ''' Forward pass through the network. \n",
        "            These inputs are x, and the hidden/cell state `hidden`. '''\n",
        "        \n",
        "        # Get embeddings\n",
        "        embed = self.embedding(x)\n",
        "        \n",
        "        ## TODO: Get the outputs and the new hidden state from the lstm\n",
        "        r_out, hidden = self.lstm(embed, hidden)\n",
        "        \n",
        "        ## TODO: pass through a dropout layer\n",
        "        out = self.dropout(r_out)\n",
        "        \n",
        "        # Stack up LSTM outputs using view\n",
        "        # you may need to use contiguous to reshape the output\n",
        "        out = out.contiguous().view(out.shape[0], -1)\n",
        "        \n",
        "        ## TODO: put x through the fully-connected layer\n",
        "        out = self.fc(out)\n",
        "        \n",
        "        # return the final output and the hidden state\n",
        "        return out, hidden\n",
        "    \n",
        "    \n",
        "    def init_hidden(self, batch_size):\n",
        "        ''' Initializes hidden state '''\n",
        "        # Create two new tensors with sizes n_layers x batch_size x n_hidden,\n",
        "        # initialized to zero, for hidden state and cell state of LSTM\n",
        "        weight = next(self.parameters()).data\n",
        "        \n",
        "        if (train_on_gpu):\n",
        "            hidden = (weight.new(self.n_layers, batch_size, self.n_hidden).zero_().cuda(),\n",
        "                  weight.new(self.n_layers, batch_size, self.n_hidden).zero_().cuda())\n",
        "        else:\n",
        "            hidden = (weight.new(self.n_layers, batch_size, self.n_hidden).zero_(),\n",
        "                      weight.new(self.n_layers, batch_size, self.n_hidden).zero_())\n",
        "        \n",
        "        return hidden"
      ],
      "execution_count": 113,
      "outputs": []
    },
    {
      "cell_type": "code",
      "metadata": {
        "id": "mpwan07gksT2"
      },
      "source": [
        "def plot_history(train_history, val_history, title='loss'):\r\n",
        "    plt.figure()\r\n",
        "    plt.title('{}'.format(title))\r\n",
        "    plt.plot(train_history, label='train', zorder=1)\r\n",
        "    \r\n",
        "    points = np.array(val_history)\r\n",
        "    steps = list(range(0, len(train_history) + 1, int(len(train_history) / len(val_history))))[1:]\r\n",
        "    \r\n",
        "    plt.scatter(steps, val_history, marker='+', s=180, c='orange', label='val', zorder=2)\r\n",
        "    plt.xlabel('train steps')\r\n",
        "    \r\n",
        "    plt.legend(loc='best')\r\n",
        "    plt.grid()\r\n",
        "\r\n",
        "    plt.show()"
      ],
      "execution_count": 107,
      "outputs": []
    },
    {
      "cell_type": "code",
      "metadata": {
        "id": "jE2jVWJ5Yuca"
      },
      "source": [
        "def train(net, train_dataloader, test_dataloader, epochs=10, lr=0.001, clip=5, val_frac=0.1, print_every=50, plot_every=500):\n",
        "    ''' Training a network \n",
        "    \n",
        "        Arguments\n",
        "        ---------\n",
        "        \n",
        "        net: CharRNN network\n",
        "        data: text data to train the network\n",
        "        epochs: Number of epochs to train\n",
        "        batch_size: Number of mini-sequences per mini-batch, aka batch size\n",
        "        seq_length: Number of character steps per mini-batch\n",
        "        lr: learning rate\n",
        "        clip: gradient clipping\n",
        "        val_frac: Fraction of data to hold out for validation\n",
        "        print_every: Number of steps for printing training and validation loss\n",
        "    \n",
        "    '''\n",
        "    batch_size = train_dataloader.batch_size\n",
        "    net.train()\n",
        "    \n",
        "    opt = torch.optim.Adam(net.parameters(), lr=lr)\n",
        "    criterion = nn.L1Loss()\n",
        "    \n",
        "    if(train_on_gpu):\n",
        "        net.cuda()\n",
        "    \n",
        "    train_loss_log = []\n",
        "    val_loss_log = []\n",
        "\n",
        "    counter = 0\n",
        "    n_words = len(net.WORDS)\n",
        "    for e in range(epochs):\n",
        "        # initialize hidden state\n",
        "        h = net.init_hidden(batch_size)\n",
        "        \n",
        "        for inputs, targets in train_dataloader:\n",
        "            counter += 1\n",
        "            \n",
        "            if(train_on_gpu):\n",
        "                inputs, targets = inputs.cuda(), targets.cuda()\n",
        "\n",
        "            # Creating new variables for the hidden state, otherwise\n",
        "            # we'd backprop through the entire training history\n",
        "            h = tuple([each.data for each in h])\n",
        "\n",
        "            # zero accumulated gradients\n",
        "            net.zero_grad()\n",
        "            \n",
        "            # get the output from the model\n",
        "            output, h = net(inputs, h)\n",
        "            \n",
        "            # calculate the loss and perform backprop\n",
        "            loss = criterion(output, targets)\n",
        "            loss.backward()\n",
        "            # `clip_grad_norm` helps prevent the exploding gradient problem in RNNs / LSTMs.\n",
        "            nn.utils.clip_grad_norm_(net.parameters(), clip)\n",
        "            opt.step()\n",
        "            # save loss log\n",
        "            train_loss_log.append(loss.item())\n",
        "            \n",
        "            # print train loss\n",
        "            if counter % print_every == 0:    \n",
        "                print(\"Epoch: {}/{}...\".format(e+1, epochs),\n",
        "                        \"Step: {}...\".format(counter),\n",
        "                        \"Loss: {:.4f}...\".format(loss.item()))\n",
        "                \n",
        "            # start validation\n",
        "            if counter % plot_every == 0:\n",
        "                # Get validation loss\n",
        "                val_h = net.init_hidden(batch_size)\n",
        "                val_losses = []\n",
        "                net.eval()\n",
        "                for inputs, targets in test_dataloader:\n",
        "                    # Creating new variables for the hidden state, otherwise\n",
        "                    # we'd backprop through the entire training history\n",
        "                    val_h = tuple([each.data for each in val_h])\n",
        "\n",
        "                    if(train_on_gpu):\n",
        "                        inputs, targets = inputs.cuda(), targets.cuda()\n",
        "                    output, val_h = net(inputs, val_h)\n",
        "\n",
        "                    val_loss = criterion(output, targets)\n",
        "                \n",
        "                    val_losses.append(val_loss.item())\n",
        "                val_loss_mean = np.mean(val_losses)\n",
        "                # save val loss\n",
        "                val_loss_log.append(val_loss_mean)\n",
        "                \n",
        "                net.train() # reset to train mode after iterationg through validation data\n",
        "                \n",
        "                # print and plot val loss\n",
        "                clear_output()\n",
        "                print(\"Epoch: {}/{}...\".format(e+1, epochs),\n",
        "                    \"Step: {}...\".format(counter),\n",
        "                    \"Loss: {:.4f}...\".format(loss.item()),\n",
        "                    \"Val Loss: {:.4f}\".format(val_loss_mean))\n",
        "\n",
        "                plot_history(train_loss_log, val_loss_log, 'loss')"
      ],
      "execution_count": 52,
      "outputs": []
    },
    {
      "cell_type": "code",
      "metadata": {
        "colab": {
          "base_uri": "https://localhost:8080/"
        },
        "id": "P-u7_plVYuca",
        "outputId": "d5c5736f-3ab3-4c84-872c-7fda6547ba9b"
      },
      "source": [
        "# define and print the net\n",
        "n_hidden=512\n",
        "n_layers=3\n",
        "embed_dim = 300\n",
        "\n",
        "net = WordRNN(WORDS, n_hidden, n_layers, embed_dim=embed_dim)\n",
        "print(net)"
      ],
      "execution_count": 115,
      "outputs": [
        {
          "output_type": "stream",
          "text": [
            "WordRNN(\n",
            "  (embedding): Embedding(29965, 300)\n",
            "  (lstm): LSTM(300, 512, num_layers=3, batch_first=True, dropout=0.5)\n",
            "  (dropout): Dropout(p=0.5, inplace=False)\n",
            "  (fc): Linear(in_features=71680, out_features=1, bias=True)\n",
            ")\n"
          ],
          "name": "stdout"
        }
      ]
    },
    {
      "cell_type": "code",
      "metadata": {
        "colab": {
          "base_uri": "https://localhost:8080/"
        },
        "id": "Xq_WueuGYuca",
        "outputId": "161324dc-982c-4a19-8366-895a7097b665"
      },
      "source": [
        "# check if GPU is available\n",
        "train_on_gpu = torch.cuda.is_available()\n",
        "if(train_on_gpu):\n",
        "    print('Training on GPU!')\n",
        "else: \n",
        "    print('No GPU available, training on CPU; consider making n_epochs very small.')"
      ],
      "execution_count": 13,
      "outputs": [
        {
          "output_type": "stream",
          "text": [
            "Training on GPU!\n"
          ],
          "name": "stdout"
        }
      ]
    },
    {
      "cell_type": "code",
      "metadata": {
        "colab": {
          "base_uri": "https://localhost:8080/",
          "height": 632
        },
        "id": "j27LH8q-Yucb",
        "outputId": "0bdaa20d-ddc6-44ea-dd79-61a09b945ee4"
      },
      "source": [
        "train(net, train_dataloader, test_dataloader)"
      ],
      "execution_count": 116,
      "outputs": [
        {
          "output_type": "stream",
          "text": [
            "Epoch: 3/10... Step: 2500... Loss: 0.6720... Val Loss: 0.7861\n"
          ],
          "name": "stdout"
        },
        {
          "output_type": "display_data",
          "data": {
            "image/png": "[encoded data removed]",
            "text/plain": [
              "<Figure size 432x288 with 1 Axes>"
            ]
          },
          "metadata": {
            "tags": [],
            "needs_background": "light"
          }
        },
        {
          "output_type": "stream",
          "text": [
            "Epoch: 3/10... Step: 2550... Loss: 0.7306...\n",
            "Epoch: 3/10... Step: 2600... Loss: 0.9593...\n"
          ],
          "name": "stdout"
        },
        {
          "output_type": "error",
          "ename": "KeyboardInterrupt",
          "evalue": "ignored",
          "traceback": [
            "\u001b[0;31m---------------------------------------------------------------------------\u001b[0m",
            "\u001b[0;31mKeyboardInterrupt\u001b[0m                         Traceback (most recent call last)",
            "\u001b[0;32m<ipython-input-116-7d82d3a139e8>\u001b[0m in \u001b[0;36m<module>\u001b[0;34m()\u001b[0m\n\u001b[0;32m----> 1\u001b[0;31m \u001b[0mtrain\u001b[0m\u001b[0;34m(\u001b[0m\u001b[0mnet\u001b[0m\u001b[0;34m,\u001b[0m \u001b[0mtrain_dataloader\u001b[0m\u001b[0;34m,\u001b[0m \u001b[0mtest_dataloader\u001b[0m\u001b[0;34m)\u001b[0m\u001b[0;34m\u001b[0m\u001b[0;34m\u001b[0m\u001b[0m\n\u001b[0m",
            "\u001b[0;32m<ipython-input-52-2b958abd28d8>\u001b[0m in \u001b[0;36mtrain\u001b[0;34m(net, train_dataloader, test_dataloader, epochs, lr, clip, val_frac, print_every, plot_every)\u001b[0m\n\u001b[1;32m     52\u001b[0m             \u001b[0;31m# calculate the loss and perform backprop\u001b[0m\u001b[0;34m\u001b[0m\u001b[0;34m\u001b[0m\u001b[0;34m\u001b[0m\u001b[0m\n\u001b[1;32m     53\u001b[0m             \u001b[0mloss\u001b[0m \u001b[0;34m=\u001b[0m \u001b[0mcriterion\u001b[0m\u001b[0;34m(\u001b[0m\u001b[0moutput\u001b[0m\u001b[0;34m,\u001b[0m \u001b[0mtargets\u001b[0m\u001b[0;34m)\u001b[0m\u001b[0;34m\u001b[0m\u001b[0;34m\u001b[0m\u001b[0m\n\u001b[0;32m---> 54\u001b[0;31m             \u001b[0mloss\u001b[0m\u001b[0;34m.\u001b[0m\u001b[0mbackward\u001b[0m\u001b[0;34m(\u001b[0m\u001b[0;34m)\u001b[0m\u001b[0;34m\u001b[0m\u001b[0;34m\u001b[0m\u001b[0m\n\u001b[0m\u001b[1;32m     55\u001b[0m             \u001b[0;31m# `clip_grad_norm` helps prevent the exploding gradient problem in RNNs / LSTMs.\u001b[0m\u001b[0;34m\u001b[0m\u001b[0;34m\u001b[0m\u001b[0;34m\u001b[0m\u001b[0m\n\u001b[1;32m     56\u001b[0m             \u001b[0mnn\u001b[0m\u001b[0;34m.\u001b[0m\u001b[0mutils\u001b[0m\u001b[0;34m.\u001b[0m\u001b[0mclip_grad_norm_\u001b[0m\u001b[0;34m(\u001b[0m\u001b[0mnet\u001b[0m\u001b[0;34m.\u001b[0m\u001b[0mparameters\u001b[0m\u001b[0;34m(\u001b[0m\u001b[0;34m)\u001b[0m\u001b[0;34m,\u001b[0m \u001b[0mclip\u001b[0m\u001b[0;34m)\u001b[0m\u001b[0;34m\u001b[0m\u001b[0;34m\u001b[0m\u001b[0m\n",
            "\u001b[0;32m/usr/local/lib/python3.6/dist-packages/torch/tensor.py\u001b[0m in \u001b[0;36mbackward\u001b[0;34m(self, gradient, retain_graph, create_graph)\u001b[0m\n\u001b[1;32m    219\u001b[0m                 \u001b[0mretain_graph\u001b[0m\u001b[0;34m=\u001b[0m\u001b[0mretain_graph\u001b[0m\u001b[0;34m,\u001b[0m\u001b[0;34m\u001b[0m\u001b[0;34m\u001b[0m\u001b[0m\n\u001b[1;32m    220\u001b[0m                 create_graph=create_graph)\n\u001b[0;32m--> 221\u001b[0;31m         \u001b[0mtorch\u001b[0m\u001b[0;34m.\u001b[0m\u001b[0mautograd\u001b[0m\u001b[0;34m.\u001b[0m\u001b[0mbackward\u001b[0m\u001b[0;34m(\u001b[0m\u001b[0mself\u001b[0m\u001b[0;34m,\u001b[0m \u001b[0mgradient\u001b[0m\u001b[0;34m,\u001b[0m \u001b[0mretain_graph\u001b[0m\u001b[0;34m,\u001b[0m \u001b[0mcreate_graph\u001b[0m\u001b[0;34m)\u001b[0m\u001b[0;34m\u001b[0m\u001b[0;34m\u001b[0m\u001b[0m\n\u001b[0m\u001b[1;32m    222\u001b[0m \u001b[0;34m\u001b[0m\u001b[0m\n\u001b[1;32m    223\u001b[0m     \u001b[0;32mdef\u001b[0m \u001b[0mregister_hook\u001b[0m\u001b[0;34m(\u001b[0m\u001b[0mself\u001b[0m\u001b[0;34m,\u001b[0m \u001b[0mhook\u001b[0m\u001b[0;34m)\u001b[0m\u001b[0;34m:\u001b[0m\u001b[0;34m\u001b[0m\u001b[0;34m\u001b[0m\u001b[0m\n",
            "\u001b[0;32m/usr/local/lib/python3.6/dist-packages/torch/autograd/__init__.py\u001b[0m in \u001b[0;36mbackward\u001b[0;34m(tensors, grad_tensors, retain_graph, create_graph, grad_variables)\u001b[0m\n\u001b[1;32m    130\u001b[0m     Variable._execution_engine.run_backward(\n\u001b[1;32m    131\u001b[0m         \u001b[0mtensors\u001b[0m\u001b[0;34m,\u001b[0m \u001b[0mgrad_tensors_\u001b[0m\u001b[0;34m,\u001b[0m \u001b[0mretain_graph\u001b[0m\u001b[0;34m,\u001b[0m \u001b[0mcreate_graph\u001b[0m\u001b[0;34m,\u001b[0m\u001b[0;34m\u001b[0m\u001b[0;34m\u001b[0m\u001b[0m\n\u001b[0;32m--> 132\u001b[0;31m         allow_unreachable=True)  # allow_unreachable flag\n\u001b[0m\u001b[1;32m    133\u001b[0m \u001b[0;34m\u001b[0m\u001b[0m\n\u001b[1;32m    134\u001b[0m \u001b[0;34m\u001b[0m\u001b[0m\n",
            "\u001b[0;31mKeyboardInterrupt\u001b[0m: "
          ]
        }
      ]
    },
    {
      "cell_type": "markdown",
      "metadata": {
        "id": "dpPwboFQXhBh"
      },
      "source": [
        "LSTM дает ошибку на валидации 0.78, что меньше, чем во всех вышеперечисленных методах."
      ]
    },
    {
      "cell_type": "markdown",
      "metadata": {
        "id": "qQMPZPQPYucb"
      },
      "source": [
        "### Бонус. 10 баллов\n",
        "\n",
        "Побейте качество 0.75 в [соревновании](https://www.kaggle.com/c/hseds-texts-2020/leaderboard). Можете воспользоваться вышеперечисленными методами или попробовать что-нибудь еще."
      ]
    },
    {
      "cell_type": "code",
      "metadata": {
        "id": "hf0XG5-GYucb",
        "outputId": "d41bb0cb-63c9-4a34-c3bc-4dbb789259cb"
      },
      "source": [
        "df_kaggle = pd.read_csv('hseds-texts-2020/test.csv')\n",
        "df_kaggle"
      ],
      "execution_count": null,
      "outputs": [
        {
          "output_type": "execute_result",
          "data": {
            "text/html": [
              "<div>\n",
              "<style scoped>\n",
              "    .dataframe tbody tr th:only-of-type {\n",
              "        vertical-align: middle;\n",
              "    }\n",
              "\n",
              "    .dataframe tbody tr th {\n",
              "        vertical-align: top;\n",
              "    }\n",
              "\n",
              "    .dataframe thead th {\n",
              "        text-align: right;\n",
              "    }\n",
              "</style>\n",
              "<table border=\"1\" class=\"dataframe\">\n",
              "  <thead>\n",
              "    <tr style=\"text-align: right;\">\n",
              "      <th></th>\n",
              "      <th>review_id</th>\n",
              "      <th>negative</th>\n",
              "      <th>positive</th>\n",
              "    </tr>\n",
              "  </thead>\n",
              "  <tbody>\n",
              "    <tr>\n",
              "      <th>0</th>\n",
              "      <td>00026f564b258ad5159aab07c357c4ca</td>\n",
              "      <td>Other than the location everything else was h...</td>\n",
              "      <td>Just the location</td>\n",
              "    </tr>\n",
              "    <tr>\n",
              "      <th>1</th>\n",
              "      <td>000278c73da08f4fcb857fcfe4ac6417</td>\n",
              "      <td>No UK TV but this was a minor point as we wer...</td>\n",
              "      <td>Great location very comfortable clean breakfa...</td>\n",
              "    </tr>\n",
              "    <tr>\n",
              "      <th>2</th>\n",
              "      <td>000404f843e756fe3b2a477dbefa5bd4</td>\n",
              "      <td>A tiny noisy room VERY deceptively photographed</td>\n",
              "      <td>The breakfast booked the preceding night but ...</td>\n",
              "    </tr>\n",
              "    <tr>\n",
              "      <th>3</th>\n",
              "      <td>000a66d32bcf305148d789ac156dd512</td>\n",
              "      <td>Noisy various electrical devices kicking in r...</td>\n",
              "      <td>Great location Nice bathroom</td>\n",
              "    </tr>\n",
              "    <tr>\n",
              "      <th>4</th>\n",
              "      <td>000bf1d8c5110701f459ffbedbf0d546</td>\n",
              "      <td>No Negative</td>\n",
              "      <td>Great location and friendly staff</td>\n",
              "    </tr>\n",
              "    <tr>\n",
              "      <th>...</th>\n",
              "      <td>...</td>\n",
              "      <td>...</td>\n",
              "      <td>...</td>\n",
              "    </tr>\n",
              "    <tr>\n",
              "      <th>19995</th>\n",
              "      <td>ffe8a7190aee6e3a53ee2e0145a91555</td>\n",
              "      <td>Check in Staff not consistant with comments e...</td>\n",
              "      <td>No Positive</td>\n",
              "    </tr>\n",
              "    <tr>\n",
              "      <th>19996</th>\n",
              "      <td>ffea0e2b84788c9df755efe8e2bedb23</td>\n",
              "      <td>better lift access to top floor bathrooms a l...</td>\n",
              "      <td>Great location on the Piccadilly Line so easy...</td>\n",
              "    </tr>\n",
              "    <tr>\n",
              "      <th>19997</th>\n",
              "      <td>fff3997a85a1eed7ae7a937bc945fcf0</td>\n",
              "      <td>To add a gym and a pool Then It would be perf...</td>\n",
              "      <td>Great location very nice design great breakfa...</td>\n",
              "    </tr>\n",
              "    <tr>\n",
              "      <th>19998</th>\n",
              "      <td>fff673fe95ab8f3a0910f112549862e2</td>\n",
              "      <td>Room was a bit noisy you can hear cars and th...</td>\n",
              "      <td>The entrance area looks great and the ground ...</td>\n",
              "    </tr>\n",
              "    <tr>\n",
              "      <th>19999</th>\n",
              "      <td>fffde0b07729c476fa6509524cf07f15</td>\n",
              "      <td>The SPA needs improvement the bed wasn t comf...</td>\n",
              "      <td>It is big the staff is kind The food is good ...</td>\n",
              "    </tr>\n",
              "  </tbody>\n",
              "</table>\n",
              "<p>20000 rows × 3 columns</p>\n",
              "</div>"
            ],
            "text/plain": [
              "                              review_id  \\\n",
              "0      00026f564b258ad5159aab07c357c4ca   \n",
              "1      000278c73da08f4fcb857fcfe4ac6417   \n",
              "2      000404f843e756fe3b2a477dbefa5bd4   \n",
              "3      000a66d32bcf305148d789ac156dd512   \n",
              "4      000bf1d8c5110701f459ffbedbf0d546   \n",
              "...                                 ...   \n",
              "19995  ffe8a7190aee6e3a53ee2e0145a91555   \n",
              "19996  ffea0e2b84788c9df755efe8e2bedb23   \n",
              "19997  fff3997a85a1eed7ae7a937bc945fcf0   \n",
              "19998  fff673fe95ab8f3a0910f112549862e2   \n",
              "19999  fffde0b07729c476fa6509524cf07f15   \n",
              "\n",
              "                                                negative  \\\n",
              "0       Other than the location everything else was h...   \n",
              "1       No UK TV but this was a minor point as we wer...   \n",
              "2       A tiny noisy room VERY deceptively photographed    \n",
              "3       Noisy various electrical devices kicking in r...   \n",
              "4                                            No Negative   \n",
              "...                                                  ...   \n",
              "19995   Check in Staff not consistant with comments e...   \n",
              "19996   better lift access to top floor bathrooms a l...   \n",
              "19997   To add a gym and a pool Then It would be perf...   \n",
              "19998   Room was a bit noisy you can hear cars and th...   \n",
              "19999   The SPA needs improvement the bed wasn t comf...   \n",
              "\n",
              "                                                positive  \n",
              "0                                     Just the location   \n",
              "1       Great location very comfortable clean breakfa...  \n",
              "2       The breakfast booked the preceding night but ...  \n",
              "3                           Great location Nice bathroom  \n",
              "4                      Great location and friendly staff  \n",
              "...                                                  ...  \n",
              "19995                                        No Positive  \n",
              "19996   Great location on the Piccadilly Line so easy...  \n",
              "19997   Great location very nice design great breakfa...  \n",
              "19998   The entrance area looks great and the ground ...  \n",
              "19999   It is big the staff is kind The food is good ...  \n",
              "\n",
              "[20000 rows x 3 columns]"
            ]
          },
          "metadata": {
            "tags": []
          },
          "execution_count": 17
        }
      ]
    },
    {
      "cell_type": "code",
      "metadata": {
        "id": "G4ULVyyFYucb",
        "outputId": "500c977a-1b34-402d-a616-d99a3a48abcb"
      },
      "source": [
        "%%time\n",
        "\n",
        "df_kaggle['negative'] = df_kaggle['negative'].apply(process_text)\n",
        "df_kaggle['positive'] = df_kaggle['positive'].apply(process_text)\n",
        "\n",
        "df_kaggle['negative'] = df_kaggle['negative'].apply(lambda x: '' if x == 'no negative' else x)\n",
        "df_kaggle['positive'] = df_kaggle['positive'].apply(lambda x: '' if x == 'no positive' else x)\n",
        "\n",
        "df_kaggle['united'] = df_kaggle['negative'] + ' ' + df_kaggle['positive']"
      ],
      "execution_count": null,
      "outputs": [
        {
          "output_type": "stream",
          "text": [
            "Wall time: 1min 10s\n"
          ],
          "name": "stdout"
        }
      ]
    },
    {
      "cell_type": "code",
      "metadata": {
        "id": "TeTV40bKYucb",
        "outputId": "4ff4cc23-114a-4f07-fa58-3f11ccd64f83"
      },
      "source": [
        "df_kaggle"
      ],
      "execution_count": null,
      "outputs": [
        {
          "output_type": "execute_result",
          "data": {
            "text/html": [
              "<div>\n",
              "<style scoped>\n",
              "    .dataframe tbody tr th:only-of-type {\n",
              "        vertical-align: middle;\n",
              "    }\n",
              "\n",
              "    .dataframe tbody tr th {\n",
              "        vertical-align: top;\n",
              "    }\n",
              "\n",
              "    .dataframe thead th {\n",
              "        text-align: right;\n",
              "    }\n",
              "</style>\n",
              "<table border=\"1\" class=\"dataframe\">\n",
              "  <thead>\n",
              "    <tr style=\"text-align: right;\">\n",
              "      <th></th>\n",
              "      <th>review_id</th>\n",
              "      <th>negative</th>\n",
              "      <th>positive</th>\n",
              "      <th>united</th>\n",
              "    </tr>\n",
              "  </thead>\n",
              "  <tbody>\n",
              "    <tr>\n",
              "      <th>0</th>\n",
              "      <td>00026f564b258ad5159aab07c357c4ca</td>\n",
              "      <td>other than the location everything else be hor...</td>\n",
              "      <td>just the location</td>\n",
              "      <td>other than the location everything else be hor...</td>\n",
              "    </tr>\n",
              "    <tr>\n",
              "      <th>1</th>\n",
              "      <td>000278c73da08f4fcb857fcfe4ac6417</td>\n",
              "      <td>no uk tv but this be a minor point as -PRON- b...</td>\n",
              "      <td>great location very comfortable clean breakfas...</td>\n",
              "      <td>no uk tv but this be a minor point as -PRON- b...</td>\n",
              "    </tr>\n",
              "    <tr>\n",
              "      <th>2</th>\n",
              "      <td>000404f843e756fe3b2a477dbefa5bd4</td>\n",
              "      <td>a tiny noisy room very deceptively photograph</td>\n",
              "      <td>the breakfast book the precede night but forgo...</td>\n",
              "      <td>a tiny noisy room very deceptively photograph ...</td>\n",
              "    </tr>\n",
              "    <tr>\n",
              "      <th>3</th>\n",
              "      <td>000a66d32bcf305148d789ac156dd512</td>\n",
              "      <td>noisy various electrical device kick in random...</td>\n",
              "      <td>great location nice bathroom</td>\n",
              "      <td>noisy various electrical device kick in random...</td>\n",
              "    </tr>\n",
              "    <tr>\n",
              "      <th>4</th>\n",
              "      <td>000bf1d8c5110701f459ffbedbf0d546</td>\n",
              "      <td></td>\n",
              "      <td>great location and friendly staff</td>\n",
              "      <td>great location and friendly staff</td>\n",
              "    </tr>\n",
              "    <tr>\n",
              "      <th>...</th>\n",
              "      <td>...</td>\n",
              "      <td>...</td>\n",
              "      <td>...</td>\n",
              "      <td>...</td>\n",
              "    </tr>\n",
              "    <tr>\n",
              "      <th>19995</th>\n",
              "      <td>ffe8a7190aee6e3a53ee2e0145a91555</td>\n",
              "      <td>check in staff not consistant with comment eg ...</td>\n",
              "      <td></td>\n",
              "      <td>check in staff not consistant with comment eg ...</td>\n",
              "    </tr>\n",
              "    <tr>\n",
              "      <th>19996</th>\n",
              "      <td>ffea0e2b84788c9df755efe8e2bedb23</td>\n",
              "      <td>well lift access to top floor bathroom a littl...</td>\n",
              "      <td>great location on the piccadilly line so easy ...</td>\n",
              "      <td>well lift access to top floor bathroom a littl...</td>\n",
              "    </tr>\n",
              "    <tr>\n",
              "      <th>19997</th>\n",
              "      <td>fff3997a85a1eed7ae7a937bc945fcf0</td>\n",
              "      <td>to add a gym and a pool then -PRON- would be p...</td>\n",
              "      <td>great location very nice design great breakfas...</td>\n",
              "      <td>to add a gym and a pool then -PRON- would be p...</td>\n",
              "    </tr>\n",
              "    <tr>\n",
              "      <th>19998</th>\n",
              "      <td>fff673fe95ab8f3a0910f112549862e2</td>\n",
              "      <td>room be a bit noisy -PRON- can hear car and th...</td>\n",
              "      <td>the entrance area look great and the ground fl...</td>\n",
              "      <td>room be a bit noisy -PRON- can hear car and th...</td>\n",
              "    </tr>\n",
              "    <tr>\n",
              "      <th>19999</th>\n",
              "      <td>fffde0b07729c476fa6509524cf07f15</td>\n",
              "      <td>the spa need improvement the bed wasn t comfor...</td>\n",
              "      <td>-PRON- be big the staff be kind the food be go...</td>\n",
              "      <td>the spa need improvement the bed wasn t comfor...</td>\n",
              "    </tr>\n",
              "  </tbody>\n",
              "</table>\n",
              "<p>20000 rows × 4 columns</p>\n",
              "</div>"
            ],
            "text/plain": [
              "                              review_id  \\\n",
              "0      00026f564b258ad5159aab07c357c4ca   \n",
              "1      000278c73da08f4fcb857fcfe4ac6417   \n",
              "2      000404f843e756fe3b2a477dbefa5bd4   \n",
              "3      000a66d32bcf305148d789ac156dd512   \n",
              "4      000bf1d8c5110701f459ffbedbf0d546   \n",
              "...                                 ...   \n",
              "19995  ffe8a7190aee6e3a53ee2e0145a91555   \n",
              "19996  ffea0e2b84788c9df755efe8e2bedb23   \n",
              "19997  fff3997a85a1eed7ae7a937bc945fcf0   \n",
              "19998  fff673fe95ab8f3a0910f112549862e2   \n",
              "19999  fffde0b07729c476fa6509524cf07f15   \n",
              "\n",
              "                                                negative  \\\n",
              "0      other than the location everything else be hor...   \n",
              "1      no uk tv but this be a minor point as -PRON- b...   \n",
              "2          a tiny noisy room very deceptively photograph   \n",
              "3      noisy various electrical device kick in random...   \n",
              "4                                                          \n",
              "...                                                  ...   \n",
              "19995  check in staff not consistant with comment eg ...   \n",
              "19996  well lift access to top floor bathroom a littl...   \n",
              "19997  to add a gym and a pool then -PRON- would be p...   \n",
              "19998  room be a bit noisy -PRON- can hear car and th...   \n",
              "19999  the spa need improvement the bed wasn t comfor...   \n",
              "\n",
              "                                                positive  \\\n",
              "0                                      just the location   \n",
              "1      great location very comfortable clean breakfas...   \n",
              "2      the breakfast book the precede night but forgo...   \n",
              "3                           great location nice bathroom   \n",
              "4                      great location and friendly staff   \n",
              "...                                                  ...   \n",
              "19995                                                      \n",
              "19996  great location on the piccadilly line so easy ...   \n",
              "19997  great location very nice design great breakfas...   \n",
              "19998  the entrance area look great and the ground fl...   \n",
              "19999  -PRON- be big the staff be kind the food be go...   \n",
              "\n",
              "                                                  united  \n",
              "0      other than the location everything else be hor...  \n",
              "1      no uk tv but this be a minor point as -PRON- b...  \n",
              "2      a tiny noisy room very deceptively photograph ...  \n",
              "3      noisy various electrical device kick in random...  \n",
              "4                      great location and friendly staff  \n",
              "...                                                  ...  \n",
              "19995  check in staff not consistant with comment eg ...  \n",
              "19996  well lift access to top floor bathroom a littl...  \n",
              "19997  to add a gym and a pool then -PRON- would be p...  \n",
              "19998  room be a bit noisy -PRON- can hear car and th...  \n",
              "19999  the spa need improvement the bed wasn t comfor...  \n",
              "\n",
              "[20000 rows x 4 columns]"
            ]
          },
          "metadata": {
            "tags": []
          },
          "execution_count": 19
        }
      ]
    },
    {
      "cell_type": "code",
      "metadata": {
        "id": "Fe-5oiijYucb",
        "outputId": "ecbfdf08-4a0e-4c2b-9972-85d49021e6b2"
      },
      "source": [
        "%%time\n",
        "\n",
        "# positive и negative части отзывов рассматриваются отдельно\n",
        "lr_model = Ridge()\n",
        "lr_model.fit(get_bow_separate(X_train), y_train)\n",
        "kaggle_pred = lr_model.predict(get_bow_separate(df_kaggle))"
      ],
      "execution_count": null,
      "outputs": [
        {
          "output_type": "stream",
          "text": [
            "Wall time: 2.58 s\n"
          ],
          "name": "stdout"
        }
      ]
    },
    {
      "cell_type": "code",
      "metadata": {
        "id": "CoE61IqXYucc"
      },
      "source": [
        "df_kaggle_pred = pd.DataFrame({'review_id': df_kaggle['review_id'], 'score': kaggle_pred})\n",
        "df_kaggle_pred = df_kaggle_pred.set_index('review_id')"
      ],
      "execution_count": null,
      "outputs": []
    },
    {
      "cell_type": "code",
      "metadata": {
        "id": "A1GR6ienYucc"
      },
      "source": [
        "df_kaggle_pred.to_csv('kaggle_pred.csv')"
      ],
      "execution_count": null,
      "outputs": []
    }
  ]
}